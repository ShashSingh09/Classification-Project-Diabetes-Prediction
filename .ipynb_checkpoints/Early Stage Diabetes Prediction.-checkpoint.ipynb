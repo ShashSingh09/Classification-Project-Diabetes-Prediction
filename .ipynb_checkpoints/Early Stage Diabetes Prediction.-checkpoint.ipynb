{
 "cells": [
  {
   "cell_type": "code",
   "execution_count": 1,
   "id": "8bfa7daf",
   "metadata": {},
   "outputs": [],
   "source": [
    "#Importing the necessary libraries\n",
    "\n",
    "#Numerical Calculations and Dataframe\n",
    "\n",
    "import numpy as np\n",
    "import pandas as pd\n",
    "\n",
    "#Visualizations\n",
    "\n",
    "import matplotlib.pyplot as plt\n",
    "import seaborn as sns\n",
    "\n",
    "#Scaling\n",
    "\n",
    "from sklearn.preprocessing import StandardScaler\n",
    "\n",
    "#Splitting the data\n",
    "\n",
    "from sklearn.model_selection import train_test_split\n",
    "\n",
    "#Hyper-Parameter Tuning\n",
    "\n",
    "from sklearn.model_selection import GridSearchCV\n",
    "\n",
    "#Importing the models\n",
    "\n",
    "from sklearn.linear_model import LogisticRegression\n",
    "from sklearn.naive_bayes import GaussianNB\n",
    "from sklearn.tree import DecisionTreeClassifier,plot_tree\n",
    "\n",
    "#Statistical calculations\n",
    "import scipy.stats as stats\n",
    "\n",
    "#Model evaluation\n",
    "\n",
    "from sklearn.metrics import accuracy_score,precision_score,recall_score,f1_score\n",
    "\n",
    "#Ignoring the warnings\n",
    "import warnings\n",
    "warnings.filterwarnings('ignore')\n"
   ]
  },
  {
   "cell_type": "code",
   "execution_count": 2,
   "id": "715b24a8",
   "metadata": {},
   "outputs": [],
   "source": [
    "#Reading the data\n",
    "df=pd.read_csv('Diab data.csv')"
   ]
  },
  {
   "cell_type": "markdown",
   "id": "ce2de410",
   "metadata": {},
   "source": [
    "# Attributes Description:\n",
    "\n",
    "* Age (1-20 to 65): Age range of the individuals.\n",
    "* Sex (1. Male, 2. Female): Gender information.\n",
    "* Polyuria (1. Yes, 2. No): Presence of excessive urination.\n",
    "* Polydipsia (1. Yes, 2. No): Excessive thirst.\n",
    "* Sudden Weight Loss (1. Yes, 2. No): Abrupt weight loss.\n",
    "* Weakness (1. Yes, 2. No): Generalized weakness.\n",
    "* Polyphagia (1. Yes, 2. No): Excessive hunger.\n",
    "* Genital Thrush (1. Yes, 2. No): Presence of genital thrush.\n",
    "* Visual Blurring (1. Yes, 2. No): Blurring of vision.\n",
    "* Itching (1. Yes, 2. No): Presence of itching.\n",
    "* Irritability (1. Yes, 2. No): Display of irritability.\n",
    "* Delayed Healing (1. Yes, 2. No): Delayed wound healing.\n",
    "* Partial Paresis (1. Yes, 2. No): Partial loss of voluntary movement.\n",
    "* Muscle Stiffness (1. Yes, 2. No): Presence of muscle stiffness.\n",
    "* Alopecia (1. Yes, 2. No): Hair loss.\n",
    "* Obesity (1. Yes, 2. No): Presence of obesity.\n",
    "* Class (1. Positive, 2. Negative): Diabetes classification."
   ]
  },
  {
   "cell_type": "code",
   "execution_count": 3,
   "id": "174dc8f0",
   "metadata": {},
   "outputs": [
    {
     "data": {
      "text/html": [
       "<div>\n",
       "<style scoped>\n",
       "    .dataframe tbody tr th:only-of-type {\n",
       "        vertical-align: middle;\n",
       "    }\n",
       "\n",
       "    .dataframe tbody tr th {\n",
       "        vertical-align: top;\n",
       "    }\n",
       "\n",
       "    .dataframe thead th {\n",
       "        text-align: right;\n",
       "    }\n",
       "</style>\n",
       "<table border=\"1\" class=\"dataframe\">\n",
       "  <thead>\n",
       "    <tr style=\"text-align: right;\">\n",
       "      <th></th>\n",
       "      <th>Age</th>\n",
       "      <th>Gender</th>\n",
       "      <th>Polyuria</th>\n",
       "      <th>Polydipsia</th>\n",
       "      <th>sudden weight loss</th>\n",
       "      <th>weakness</th>\n",
       "      <th>Polyphagia</th>\n",
       "      <th>Genital thrush</th>\n",
       "      <th>visual blurring</th>\n",
       "      <th>Itching</th>\n",
       "      <th>Irritability</th>\n",
       "      <th>delayed healing</th>\n",
       "      <th>partial paresis</th>\n",
       "      <th>muscle stiffness</th>\n",
       "      <th>Alopecia</th>\n",
       "      <th>Obesity</th>\n",
       "      <th>class</th>\n",
       "    </tr>\n",
       "  </thead>\n",
       "  <tbody>\n",
       "    <tr>\n",
       "      <th>0</th>\n",
       "      <td>40</td>\n",
       "      <td>Male</td>\n",
       "      <td>No</td>\n",
       "      <td>Yes</td>\n",
       "      <td>No</td>\n",
       "      <td>Yes</td>\n",
       "      <td>No</td>\n",
       "      <td>No</td>\n",
       "      <td>No</td>\n",
       "      <td>Yes</td>\n",
       "      <td>No</td>\n",
       "      <td>Yes</td>\n",
       "      <td>No</td>\n",
       "      <td>Yes</td>\n",
       "      <td>Yes</td>\n",
       "      <td>Yes</td>\n",
       "      <td>Positive</td>\n",
       "    </tr>\n",
       "    <tr>\n",
       "      <th>1</th>\n",
       "      <td>58</td>\n",
       "      <td>Male</td>\n",
       "      <td>No</td>\n",
       "      <td>No</td>\n",
       "      <td>No</td>\n",
       "      <td>Yes</td>\n",
       "      <td>No</td>\n",
       "      <td>No</td>\n",
       "      <td>Yes</td>\n",
       "      <td>No</td>\n",
       "      <td>No</td>\n",
       "      <td>No</td>\n",
       "      <td>Yes</td>\n",
       "      <td>No</td>\n",
       "      <td>Yes</td>\n",
       "      <td>No</td>\n",
       "      <td>Positive</td>\n",
       "    </tr>\n",
       "    <tr>\n",
       "      <th>2</th>\n",
       "      <td>41</td>\n",
       "      <td>Male</td>\n",
       "      <td>Yes</td>\n",
       "      <td>No</td>\n",
       "      <td>No</td>\n",
       "      <td>Yes</td>\n",
       "      <td>Yes</td>\n",
       "      <td>No</td>\n",
       "      <td>No</td>\n",
       "      <td>Yes</td>\n",
       "      <td>No</td>\n",
       "      <td>Yes</td>\n",
       "      <td>No</td>\n",
       "      <td>Yes</td>\n",
       "      <td>Yes</td>\n",
       "      <td>No</td>\n",
       "      <td>Positive</td>\n",
       "    </tr>\n",
       "    <tr>\n",
       "      <th>3</th>\n",
       "      <td>45</td>\n",
       "      <td>Male</td>\n",
       "      <td>No</td>\n",
       "      <td>No</td>\n",
       "      <td>Yes</td>\n",
       "      <td>Yes</td>\n",
       "      <td>Yes</td>\n",
       "      <td>Yes</td>\n",
       "      <td>No</td>\n",
       "      <td>Yes</td>\n",
       "      <td>No</td>\n",
       "      <td>Yes</td>\n",
       "      <td>No</td>\n",
       "      <td>No</td>\n",
       "      <td>No</td>\n",
       "      <td>No</td>\n",
       "      <td>Positive</td>\n",
       "    </tr>\n",
       "    <tr>\n",
       "      <th>4</th>\n",
       "      <td>60</td>\n",
       "      <td>Male</td>\n",
       "      <td>Yes</td>\n",
       "      <td>Yes</td>\n",
       "      <td>Yes</td>\n",
       "      <td>Yes</td>\n",
       "      <td>Yes</td>\n",
       "      <td>No</td>\n",
       "      <td>Yes</td>\n",
       "      <td>Yes</td>\n",
       "      <td>Yes</td>\n",
       "      <td>Yes</td>\n",
       "      <td>Yes</td>\n",
       "      <td>Yes</td>\n",
       "      <td>Yes</td>\n",
       "      <td>Yes</td>\n",
       "      <td>Positive</td>\n",
       "    </tr>\n",
       "  </tbody>\n",
       "</table>\n",
       "</div>"
      ],
      "text/plain": [
       "   Age Gender Polyuria Polydipsia sudden weight loss weakness Polyphagia  \\\n",
       "0   40   Male       No        Yes                 No      Yes         No   \n",
       "1   58   Male       No         No                 No      Yes         No   \n",
       "2   41   Male      Yes         No                 No      Yes        Yes   \n",
       "3   45   Male       No         No                Yes      Yes        Yes   \n",
       "4   60   Male      Yes        Yes                Yes      Yes        Yes   \n",
       "\n",
       "  Genital thrush visual blurring Itching Irritability delayed healing  \\\n",
       "0             No              No     Yes           No             Yes   \n",
       "1             No             Yes      No           No              No   \n",
       "2             No              No     Yes           No             Yes   \n",
       "3            Yes              No     Yes           No             Yes   \n",
       "4             No             Yes     Yes          Yes             Yes   \n",
       "\n",
       "  partial paresis muscle stiffness Alopecia Obesity     class  \n",
       "0              No              Yes      Yes     Yes  Positive  \n",
       "1             Yes               No      Yes      No  Positive  \n",
       "2              No              Yes      Yes      No  Positive  \n",
       "3              No               No       No      No  Positive  \n",
       "4             Yes              Yes      Yes     Yes  Positive  "
      ]
     },
     "execution_count": 3,
     "metadata": {},
     "output_type": "execute_result"
    }
   ],
   "source": [
    "#First five rows\n",
    "df.head()"
   ]
  },
  {
   "cell_type": "code",
   "execution_count": 4,
   "id": "3bdd4149",
   "metadata": {},
   "outputs": [
    {
     "name": "stdout",
     "output_type": "stream",
     "text": [
      "No of rows : 520\n",
      "No of columns : 17\n"
     ]
    }
   ],
   "source": [
    "#No of rows and columns in the data\n",
    "print(f'No of rows : {df.shape[0]}')\n",
    "print(f'No of columns : {df.shape[1]}')"
   ]
  },
  {
   "cell_type": "code",
   "execution_count": 5,
   "id": "b4490ab4",
   "metadata": {},
   "outputs": [
    {
     "data": {
      "text/plain": [
       "Age                   0\n",
       "Gender                0\n",
       "Polyuria              0\n",
       "Polydipsia            0\n",
       "sudden weight loss    0\n",
       "weakness              0\n",
       "Polyphagia            0\n",
       "Genital thrush        0\n",
       "visual blurring       0\n",
       "Itching               0\n",
       "Irritability          0\n",
       "delayed healing       0\n",
       "partial paresis       0\n",
       "muscle stiffness      0\n",
       "Alopecia              0\n",
       "Obesity               0\n",
       "class                 0\n",
       "dtype: int64"
      ]
     },
     "execution_count": 5,
     "metadata": {},
     "output_type": "execute_result"
    }
   ],
   "source": [
    "#Checking for null values\n",
    "df.isnull().sum()"
   ]
  },
  {
   "cell_type": "markdown",
   "id": "ee8a58a9",
   "metadata": {},
   "source": [
    "* Observations:\n",
    "    * The data does not have null values."
   ]
  },
  {
   "cell_type": "markdown",
   "id": "c412fdbb",
   "metadata": {},
   "source": [
    "## Univariate Analysis"
   ]
  },
  {
   "cell_type": "code",
   "execution_count": 6,
   "id": "e53e49c2",
   "metadata": {},
   "outputs": [
    {
     "data": {
      "image/png": "[encoded data removed]",
      "text/plain": [
       "<Figure size 640x480 with 1 Axes>"
      ]
     },
     "metadata": {},
     "output_type": "display_data"
    }
   ],
   "source": [
    "#For numeric variable\n",
    "sns.set(style='dark')\n",
    "sns.distplot(df['Age'],color='purple')\n",
    "plt.show()\n"
   ]
  },
  {
   "cell_type": "markdown",
   "id": "fbcdfa15",
   "metadata": {},
   "source": [
    "* Observation:\n",
    "    * Age variable is normally distributed."
   ]
  },
  {
   "cell_type": "code",
   "execution_count": 7,
   "id": "1ff9359a",
   "metadata": {},
   "outputs": [],
   "source": [
    "#Categorical Variables\n",
    "df_cat=df.select_dtypes(include='object')\n"
   ]
  },
  {
   "cell_type": "code",
   "execution_count": 8,
   "id": "739fea9b",
   "metadata": {},
   "outputs": [
    {
     "data": {
      "image/png": "[encoded data removed]",
      "text/plain": [
       "<Figure size 500x1500 with 16 Axes>"
      ]
     },
     "metadata": {},
     "output_type": "display_data"
    }
   ],
   "source": [
    "plt.figure(figsize=(5,15))\n",
    "t=1\n",
    "for i in df_cat:\n",
    "    plt.subplot(8,2,t)\n",
    "    sns.countplot(x=df_cat[i])\n",
    "    plt.tight_layout()\n",
    "    t+=1"
   ]
  },
  {
   "cell_type": "markdown",
   "id": "76758454",
   "metadata": {},
   "source": [
    "## Bivariate Analysis - Visualization + Statistical Tests"
   ]
  },
  {
   "cell_type": "code",
   "execution_count": 9,
   "id": "514b7744",
   "metadata": {},
   "outputs": [
    {
     "data": {
      "text/html": [
       "<div>\n",
       "<style scoped>\n",
       "    .dataframe tbody tr th:only-of-type {\n",
       "        vertical-align: middle;\n",
       "    }\n",
       "\n",
       "    .dataframe tbody tr th {\n",
       "        vertical-align: top;\n",
       "    }\n",
       "\n",
       "    .dataframe thead th {\n",
       "        text-align: right;\n",
       "    }\n",
       "</style>\n",
       "<table border=\"1\" class=\"dataframe\">\n",
       "  <thead>\n",
       "    <tr style=\"text-align: right;\">\n",
       "      <th></th>\n",
       "      <th>count</th>\n",
       "      <th>mean</th>\n",
       "      <th>std</th>\n",
       "      <th>min</th>\n",
       "      <th>25%</th>\n",
       "      <th>50%</th>\n",
       "      <th>75%</th>\n",
       "      <th>max</th>\n",
       "    </tr>\n",
       "    <tr>\n",
       "      <th>class</th>\n",
       "      <th></th>\n",
       "      <th></th>\n",
       "      <th></th>\n",
       "      <th></th>\n",
       "      <th></th>\n",
       "      <th></th>\n",
       "      <th></th>\n",
       "      <th></th>\n",
       "    </tr>\n",
       "  </thead>\n",
       "  <tbody>\n",
       "    <tr>\n",
       "      <th>Negative</th>\n",
       "      <td>200.0</td>\n",
       "      <td>46.360000</td>\n",
       "      <td>12.080983</td>\n",
       "      <td>26.0</td>\n",
       "      <td>37.0</td>\n",
       "      <td>45.0</td>\n",
       "      <td>55.0</td>\n",
       "      <td>72.0</td>\n",
       "    </tr>\n",
       "    <tr>\n",
       "      <th>Positive</th>\n",
       "      <td>320.0</td>\n",
       "      <td>49.071875</td>\n",
       "      <td>12.097481</td>\n",
       "      <td>16.0</td>\n",
       "      <td>39.0</td>\n",
       "      <td>48.0</td>\n",
       "      <td>57.0</td>\n",
       "      <td>90.0</td>\n",
       "    </tr>\n",
       "  </tbody>\n",
       "</table>\n",
       "</div>"
      ],
      "text/plain": [
       "          count       mean        std   min   25%   50%   75%   max\n",
       "class                                                              \n",
       "Negative  200.0  46.360000  12.080983  26.0  37.0  45.0  55.0  72.0\n",
       "Positive  320.0  49.071875  12.097481  16.0  39.0  48.0  57.0  90.0"
      ]
     },
     "execution_count": 9,
     "metadata": {},
     "output_type": "execute_result"
    }
   ],
   "source": [
    "#Age vs class\n",
    "df.groupby('class')['Age'].describe()"
   ]
  },
  {
   "cell_type": "markdown",
   "id": "0a1c72ec",
   "metadata": {},
   "source": [
    "* Observations :\n",
    "    * The median age for individuals with/without diabetes is almost similar.\n",
    "    * We will now check the distribution of age."
   ]
  },
  {
   "cell_type": "code",
   "execution_count": 10,
   "id": "4772438d",
   "metadata": {},
   "outputs": [
    {
     "data": {
      "image/png": "[encoded data removed]",
      "text/plain": [
       "<Figure size 640x480 with 1 Axes>"
      ]
     },
     "metadata": {},
     "output_type": "display_data"
    }
   ],
   "source": [
    "sns.boxplot(x=df['class'],y=df['Age'])\n",
    "plt.show()"
   ]
  },
  {
   "cell_type": "code",
   "execution_count": 11,
   "id": "a98e4f49",
   "metadata": {},
   "outputs": [
    {
     "data": {
      "image/png": "[encoded data removed]",
      "text/plain": [
       "<Figure size 640x480 with 1 Axes>"
      ]
     },
     "metadata": {},
     "output_type": "display_data"
    }
   ],
   "source": [
    "#Gender vs class\n",
    "pd.crosstab(df['class'],df['Gender']).plot(kind='bar')\n",
    "plt.show()"
   ]
  },
  {
   "cell_type": "markdown",
   "id": "42e8cd3d",
   "metadata": {},
   "source": [
    "* Observations :\n",
    "    * Those tested positive, a higher number of individuals were females."
   ]
  },
  {
   "cell_type": "markdown",
   "id": "d8760c53",
   "metadata": {},
   "source": [
    "#### Hypothesis Testing -  Chi-Square Test\n",
    "* Checking if Gender is related to class."
   ]
  },
  {
   "cell_type": "code",
   "execution_count": 12,
   "id": "9e58fadf",
   "metadata": {},
   "outputs": [],
   "source": [
    "cross=pd.crosstab(df['class'],df['Gender'])"
   ]
  },
  {
   "cell_type": "code",
   "execution_count": 13,
   "id": "2e8a710e",
   "metadata": {},
   "outputs": [],
   "source": [
    "p_value=stats.chi2_contingency(cross)[1]"
   ]
  },
  {
   "cell_type": "code",
   "execution_count": 14,
   "id": "6b77bc62",
   "metadata": {},
   "outputs": [
    {
     "name": "stdout",
     "output_type": "stream",
     "text": [
      "Fail to reject the Null Hypothesis\n",
      "Gender is related to class\n"
     ]
    }
   ],
   "source": [
    "if p_value > 0.05:\n",
    "    print('Accept the Null Hypothesis')\n",
    "    print('Gender is not related to class')\n",
    "else:\n",
    "    print('Fail to reject the Null Hypothesis')\n",
    "    print('Gender is related to class')"
   ]
  },
  {
   "cell_type": "code",
   "execution_count": 15,
   "id": "60868435",
   "metadata": {},
   "outputs": [
    {
     "data": {
      "image/png": "[encoded data removed]",
      "text/plain": [
       "<Figure size 640x480 with 1 Axes>"
      ]
     },
     "metadata": {},
     "output_type": "display_data"
    }
   ],
   "source": [
    "#Polyuria vs class\n",
    "pd.crosstab(df['class'],df['Polyuria']).plot(kind='bar')\n",
    "plt.show()"
   ]
  },
  {
   "cell_type": "markdown",
   "id": "de0399c3",
   "metadata": {},
   "source": [
    "* Observations :\n",
    "    * Those tested positive, a higher number of individuals had symptoms of Polyuria."
   ]
  },
  {
   "cell_type": "markdown",
   "id": "11608e02",
   "metadata": {},
   "source": [
    "#### Hypothesis Testing -  Chi-Square Test\n",
    "* Checking if Polyuria is related to class."
   ]
  },
  {
   "cell_type": "code",
   "execution_count": 16,
   "id": "35dde221",
   "metadata": {},
   "outputs": [],
   "source": [
    "cross=pd.crosstab(df['class'],df['Polyuria'])\n",
    "p_value=stats.chi2_contingency(cross)[1]"
   ]
  },
  {
   "cell_type": "code",
   "execution_count": 17,
   "id": "c8233a20",
   "metadata": {},
   "outputs": [
    {
     "name": "stdout",
     "output_type": "stream",
     "text": [
      "Fail to reject the Null Hypothesis\n",
      "Polyuria is related to class\n"
     ]
    }
   ],
   "source": [
    "if p_value > 0.05:\n",
    "    print('Accept the Null Hypothesis')\n",
    "    print('Polyuria is not related to class')\n",
    "else:\n",
    "    print('Fail to reject the Null Hypothesis')\n",
    "    print('Polyuria is related to class')"
   ]
  },
  {
   "cell_type": "code",
   "execution_count": 18,
   "id": "15895d7b",
   "metadata": {},
   "outputs": [
    {
     "data": {
      "image/png": "[encoded data removed]",
      "text/plain": [
       "<Figure size 640x480 with 1 Axes>"
      ]
     },
     "metadata": {},
     "output_type": "display_data"
    }
   ],
   "source": [
    "#Polydipsia vs class\n",
    "pd.crosstab(df['class'],df['Polydipsia']).plot(kind='bar')\n",
    "plt.show()"
   ]
  },
  {
   "cell_type": "markdown",
   "id": "068c043d",
   "metadata": {},
   "source": [
    "* Observations :\n",
    "    * Those tested positive, a higher number of individuals had symptoms of Polydipsia."
   ]
  },
  {
   "cell_type": "markdown",
   "id": "96c99ac7",
   "metadata": {},
   "source": [
    "#### Hypothesis Testing -  Chi-Square Test\n",
    "* Checking if Polydipsia is related to class."
   ]
  },
  {
   "cell_type": "code",
   "execution_count": 19,
   "id": "38e08e2e",
   "metadata": {},
   "outputs": [],
   "source": [
    "cross=pd.crosstab(df['class'],df['Polydipsia'])"
   ]
  },
  {
   "cell_type": "code",
   "execution_count": 20,
   "id": "80b03c4c",
   "metadata": {},
   "outputs": [],
   "source": [
    "p_value=stats.chi2_contingency(cross)[1]"
   ]
  },
  {
   "cell_type": "code",
   "execution_count": 21,
   "id": "5fab9b35",
   "metadata": {},
   "outputs": [
    {
     "name": "stdout",
     "output_type": "stream",
     "text": [
      "Fail to reject the Null Hypothesis\n",
      "Polydipsia is related to class\n"
     ]
    }
   ],
   "source": [
    "if p_value > 0.05:\n",
    "    print('Accept the Null Hypothesis')\n",
    "    print('Polydipsia is not related to class')\n",
    "else:\n",
    "    print('Fail to reject the Null Hypothesis')\n",
    "    print('Polydipsia is related to class')"
   ]
  },
  {
   "cell_type": "code",
   "execution_count": 22,
   "id": "3820055c",
   "metadata": {},
   "outputs": [
    {
     "data": {
      "image/png": "[encoded data removed]",
      "text/plain": [
       "<Figure size 640x480 with 1 Axes>"
      ]
     },
     "metadata": {},
     "output_type": "display_data"
    }
   ],
   "source": [
    "#sudden weight loss vs class\n",
    "pd.crosstab(df['class'],df['sudden weight loss']).plot(kind='bar')\n",
    "plt.show()"
   ]
  },
  {
   "cell_type": "markdown",
   "id": "0d1e2514",
   "metadata": {},
   "source": [
    "* Observations :\n",
    "    * Those tested positive, a higher number of individuals had symptoms of sudden weight loss."
   ]
  },
  {
   "cell_type": "markdown",
   "id": "596cd650",
   "metadata": {},
   "source": [
    "#### Hypothesis Testing -  Chi-Square Test\n",
    "* Checking if sudden weight loss is related to class."
   ]
  },
  {
   "cell_type": "code",
   "execution_count": 23,
   "id": "0074ba20",
   "metadata": {},
   "outputs": [],
   "source": [
    "cross=pd.crosstab(df['class'],df['sudden weight loss'])\n",
    "p_value=stats.chi2_contingency(cross)[1]"
   ]
  },
  {
   "cell_type": "code",
   "execution_count": 24,
   "id": "34570723",
   "metadata": {},
   "outputs": [
    {
     "name": "stdout",
     "output_type": "stream",
     "text": [
      "Fail to reject the Null Hypothesis\n",
      "sudden weight loss is related to class\n"
     ]
    }
   ],
   "source": [
    "if p_value > 0.05:\n",
    "    print('Accept the Null Hypothesis')\n",
    "    print('sudden weight loss is not related to class')\n",
    "else:\n",
    "    print('Fail to reject the Null Hypothesis')\n",
    "    print('sudden weight loss is related to class')"
   ]
  },
  {
   "cell_type": "code",
   "execution_count": 25,
   "id": "29ac5f30",
   "metadata": {},
   "outputs": [
    {
     "data": {
      "image/png": "[encoded data removed]",
      "text/plain": [
       "<Figure size 640x480 with 1 Axes>"
      ]
     },
     "metadata": {},
     "output_type": "display_data"
    }
   ],
   "source": [
    "#weakness vs class\n",
    "pd.crosstab(df['class'],df['weakness']).plot(kind='bar')\n",
    "plt.show()\n",
    "    "
   ]
  },
  {
   "cell_type": "markdown",
   "id": "962ee0c4",
   "metadata": {},
   "source": [
    "* Observations :\n",
    "    * Those tested positive, a higher number of individuals had symptoms of weakness."
   ]
  },
  {
   "cell_type": "markdown",
   "id": "134f7a3a",
   "metadata": {},
   "source": [
    "#### Hypothesis Testing -  Chi-Square Test\n",
    "* Checking if weakness is related to class."
   ]
  },
  {
   "cell_type": "code",
   "execution_count": 26,
   "id": "49762974",
   "metadata": {},
   "outputs": [],
   "source": [
    "cross=pd.crosstab(df['class'],df['weakness'])\n",
    "p_value=stats.chi2_contingency(cross)[1]"
   ]
  },
  {
   "cell_type": "code",
   "execution_count": 27,
   "id": "4ed7c49a",
   "metadata": {},
   "outputs": [
    {
     "name": "stdout",
     "output_type": "stream",
     "text": [
      "Fail to reject the Null Hypothesis\n",
      "Weakness is related to class\n"
     ]
    }
   ],
   "source": [
    "if p_value > 0.05:\n",
    "    print('Accept the Null Hypothesis')\n",
    "    print('Weakness is not related to class')\n",
    "else:\n",
    "    print('Fail to reject the Null Hypothesis')\n",
    "    print('Weakness is related to class')"
   ]
  },
  {
   "cell_type": "code",
   "execution_count": 28,
   "id": "28e149ce",
   "metadata": {},
   "outputs": [
    {
     "data": {
      "image/png": "[encoded data removed]",
      "text/plain": [
       "<Figure size 640x480 with 1 Axes>"
      ]
     },
     "metadata": {},
     "output_type": "display_data"
    }
   ],
   "source": [
    "#Polyphagia vs class\n",
    "pd.crosstab(df['class'],df['Polyphagia']).plot(kind='bar')\n",
    "plt.show()\n",
    "    "
   ]
  },
  {
   "cell_type": "markdown",
   "id": "5ee51336",
   "metadata": {},
   "source": [
    "* Observations :\n",
    "    * Those tested positive, a higher number of individuals had symptoms of Polyphagia."
   ]
  },
  {
   "cell_type": "markdown",
   "id": "908edcbe",
   "metadata": {},
   "source": [
    "#### Hypothesis Testing -  Chi-Square Test\n",
    "* Checking if Polyphagia is related to class."
   ]
  },
  {
   "cell_type": "code",
   "execution_count": 29,
   "id": "25c9c9c5",
   "metadata": {},
   "outputs": [
    {
     "name": "stdout",
     "output_type": "stream",
     "text": [
      "Fail to reject the Null Hypothesis\n",
      "Polyphagia is related to class\n"
     ]
    }
   ],
   "source": [
    "cross=pd.crosstab(df['class'],df['Polyphagia'])\n",
    "p_value=stats.chi2_contingency(cross)[1]\n",
    "if p_value > 0.05:\n",
    "    print('Accept the Null Hypothesis')\n",
    "    print('Polyphagia is not related to class')\n",
    "else:\n",
    "    print('Fail to reject the Null Hypothesis')\n",
    "    print('Polyphagia is related to class')"
   ]
  },
  {
   "cell_type": "code",
   "execution_count": 30,
   "id": "efd09296",
   "metadata": {},
   "outputs": [
    {
     "data": {
      "image/png": "[encoded data removed]",
      "text/plain": [
       "<Figure size 640x480 with 1 Axes>"
      ]
     },
     "metadata": {},
     "output_type": "display_data"
    }
   ],
   "source": [
    "#Genital thrush vs class\n",
    "pd.crosstab(df['class'],df['Genital thrush']).plot(kind='bar')\n",
    "plt.show()\n",
    "    "
   ]
  },
  {
   "cell_type": "markdown",
   "id": "3483931f",
   "metadata": {},
   "source": [
    "* Observations :\n",
    "    * Those tested positive, a higher number of individuals did not have symptoms of Genital thrush."
   ]
  },
  {
   "cell_type": "markdown",
   "id": "2fb04694",
   "metadata": {},
   "source": [
    "#### Hypothesis Testing -  Chi-Square Test\n",
    "* Checking if Genital thrush is related to class."
   ]
  },
  {
   "cell_type": "code",
   "execution_count": 31,
   "id": "140dfa6e",
   "metadata": {},
   "outputs": [
    {
     "name": "stdout",
     "output_type": "stream",
     "text": [
      "Fail to reject the Null Hypothesis\n",
      "Genital thrush is related to class\n"
     ]
    }
   ],
   "source": [
    "cross=pd.crosstab(df['class'],df['Genital thrush'])\n",
    "p_value=stats.chi2_contingency(cross)[1]\n",
    "if p_value > 0.05:\n",
    "    print('Accept the Null Hypothesis')\n",
    "    print('Genital thrush is not related to class')\n",
    "else:\n",
    "    print('Fail to reject the Null Hypothesis')\n",
    "    print('Genital thrush is related to class')"
   ]
  },
  {
   "cell_type": "code",
   "execution_count": 32,
   "id": "f3b7926d",
   "metadata": {},
   "outputs": [
    {
     "data": {
      "image/png": "[encoded data removed]",
      "text/plain": [
       "<Figure size 640x480 with 1 Axes>"
      ]
     },
     "metadata": {},
     "output_type": "display_data"
    }
   ],
   "source": [
    "#visual blurring vs class\n",
    "pd.crosstab(df['class'],df['visual blurring']).plot(kind='bar')\n",
    "plt.show()\n",
    "    "
   ]
  },
  {
   "cell_type": "markdown",
   "id": "f524226a",
   "metadata": {},
   "source": [
    "* Observations :\n",
    "    * Those tested positive, a higher number of individuals had symptoms of visual blurring."
   ]
  },
  {
   "cell_type": "markdown",
   "id": "20c3a701",
   "metadata": {},
   "source": [
    "#### Hypothesis Testing -  Chi-Square Test\n",
    "* Checking if visual blurring is related to class."
   ]
  },
  {
   "cell_type": "code",
   "execution_count": 33,
   "id": "2013e04b",
   "metadata": {},
   "outputs": [
    {
     "name": "stdout",
     "output_type": "stream",
     "text": [
      "Fail to reject the Null Hypothesis\n",
      "visual blurring is related to class\n"
     ]
    }
   ],
   "source": [
    "cross=pd.crosstab(df['class'],df['visual blurring'])\n",
    "p_value=stats.chi2_contingency(cross)[1]\n",
    "if p_value > 0.05:\n",
    "    print('Accept the Null Hypothesis')\n",
    "    print('visual blurring is not related to class')\n",
    "else:\n",
    "    print('Fail to reject the Null Hypothesis')\n",
    "    print('visual blurring is related to class')"
   ]
  },
  {
   "cell_type": "code",
   "execution_count": 34,
   "id": "1ca14ccf",
   "metadata": {},
   "outputs": [
    {
     "data": {
      "image/png": "[encoded data removed]",
      "text/plain": [
       "<Figure size 640x480 with 1 Axes>"
      ]
     },
     "metadata": {},
     "output_type": "display_data"
    }
   ],
   "source": [
    "#Itching vs class\n",
    "pd.crosstab(df['class'],df['Itching']).plot(kind='bar')\n",
    "plt.show()\n",
    "    "
   ]
  },
  {
   "cell_type": "markdown",
   "id": "4d153832",
   "metadata": {},
   "source": [
    "* Observations :\n",
    "    * Those tested positive, a higher number of individuals did not have symptoms of Itching."
   ]
  },
  {
   "cell_type": "markdown",
   "id": "ffe7014f",
   "metadata": {},
   "source": [
    "#### Hypothesis Testing -  Chi-Square Test\n",
    "* Checking if Itching is related to class."
   ]
  },
  {
   "cell_type": "code",
   "execution_count": 35,
   "id": "ee03e182",
   "metadata": {},
   "outputs": [
    {
     "name": "stdout",
     "output_type": "stream",
     "text": [
      "Accept the Null Hypothesis\n",
      "Itching is not related to class\n"
     ]
    }
   ],
   "source": [
    "cross=pd.crosstab(df['class'],df['Itching'])\n",
    "p_value=stats.chi2_contingency(cross)[1]\n",
    "if p_value > 0.05:\n",
    "    print('Accept the Null Hypothesis')\n",
    "    print('Itching is not related to class')\n",
    "else:\n",
    "    print('Fail to reject the Null Hypothesis')\n",
    "    print('Itching is related to class')"
   ]
  },
  {
   "cell_type": "code",
   "execution_count": 36,
   "id": "fbca2744",
   "metadata": {},
   "outputs": [
    {
     "data": {
      "image/png": "[encoded data removed]",
      "text/plain": [
       "<Figure size 640x480 with 1 Axes>"
      ]
     },
     "metadata": {},
     "output_type": "display_data"
    }
   ],
   "source": [
    "#Irritability vs class\n",
    "pd.crosstab(df['class'],df['Irritability']).plot(kind='bar')\n",
    "plt.show()\n",
    "    "
   ]
  },
  {
   "cell_type": "markdown",
   "id": "5f6b1d91",
   "metadata": {},
   "source": [
    "* Observations :\n",
    "    * Those tested positive, a higher number of individuals did not have symptoms of Irritability."
   ]
  },
  {
   "cell_type": "markdown",
   "id": "f511acec",
   "metadata": {},
   "source": [
    "#### Hypothesis Testing -  Chi-Square Test\n",
    "* Checking if Irritability is related to class."
   ]
  },
  {
   "cell_type": "code",
   "execution_count": 37,
   "id": "7d235e3a",
   "metadata": {},
   "outputs": [
    {
     "name": "stdout",
     "output_type": "stream",
     "text": [
      "Fail to reject the Null Hypothesis\n",
      "Irritability is related to class\n"
     ]
    }
   ],
   "source": [
    "cross=pd.crosstab(df['class'],df['Irritability'])\n",
    "p_value=stats.chi2_contingency(cross)[1]\n",
    "if p_value > 0.05:\n",
    "    print('Accept the Null Hypothesis')\n",
    "    print('Irritability is not related to class')\n",
    "else:\n",
    "    print('Fail to reject the Null Hypothesis')\n",
    "    print('Irritability is related to class')"
   ]
  },
  {
   "cell_type": "code",
   "execution_count": 38,
   "id": "219b106c",
   "metadata": {},
   "outputs": [
    {
     "data": {
      "image/png": "[encoded data removed]",
      "text/plain": [
       "<Figure size 640x480 with 1 Axes>"
      ]
     },
     "metadata": {},
     "output_type": "display_data"
    }
   ],
   "source": [
    "#delayed healing vs class\n",
    "pd.crosstab(df['class'],df['delayed healing']).plot(kind='bar')\n",
    "plt.show()\n",
    "    "
   ]
  },
  {
   "cell_type": "markdown",
   "id": "a708dd50",
   "metadata": {},
   "source": [
    "* Observations :\n",
    "    * Those tested positive, a higher number of individuals did not have symptoms of delayed healing."
   ]
  },
  {
   "cell_type": "markdown",
   "id": "913ae1fd",
   "metadata": {},
   "source": [
    "#### Hypothesis Testing -  Chi-Square Test\n",
    "* Checking if delayed healing is related to class."
   ]
  },
  {
   "cell_type": "code",
   "execution_count": 39,
   "id": "843ba7e1",
   "metadata": {},
   "outputs": [
    {
     "name": "stdout",
     "output_type": "stream",
     "text": [
      "Accept the Null Hypothesis\n",
      "delayed healing is not related to class\n"
     ]
    }
   ],
   "source": [
    "cross=pd.crosstab(df['class'],df['delayed healing'])\n",
    "p_value=stats.chi2_contingency(cross)[1]\n",
    "if p_value > 0.05:\n",
    "    print('Accept the Null Hypothesis')\n",
    "    print('delayed healing is not related to class')\n",
    "else:\n",
    "    print('Fail to reject the Null Hypothesis')\n",
    "    print('delayed healing is related to class')"
   ]
  },
  {
   "cell_type": "markdown",
   "id": "92ed14af",
   "metadata": {},
   "source": [
    "* Observation :\n",
    "    * Delayed hearing has been statistically proven to be not related to class."
   ]
  },
  {
   "cell_type": "code",
   "execution_count": 40,
   "id": "6dc01918",
   "metadata": {},
   "outputs": [
    {
     "data": {
      "image/png": "[encoded data removed]",
      "text/plain": [
       "<Figure size 640x480 with 1 Axes>"
      ]
     },
     "metadata": {},
     "output_type": "display_data"
    }
   ],
   "source": [
    "#partial paresis vs class\n",
    "pd.crosstab(df['class'],df['partial paresis']).plot(kind='bar')\n",
    "plt.show()\n",
    "    "
   ]
  },
  {
   "cell_type": "markdown",
   "id": "6de50a75",
   "metadata": {},
   "source": [
    "* Observations :\n",
    "    * Those tested positive, a higher number of individuals had symptoms of partial paresis."
   ]
  },
  {
   "cell_type": "markdown",
   "id": "51511499",
   "metadata": {},
   "source": [
    "#### Hypothesis Testing -  Chi-Square Test\n",
    "* Checking if partial paresis is related to class."
   ]
  },
  {
   "cell_type": "code",
   "execution_count": 41,
   "id": "ab4f9fa8",
   "metadata": {},
   "outputs": [
    {
     "name": "stdout",
     "output_type": "stream",
     "text": [
      "Fail to reject the Null Hypothesis\n",
      "partial paresis is related to class\n"
     ]
    }
   ],
   "source": [
    "cross=pd.crosstab(df['class'],df['partial paresis'])\n",
    "p_value=stats.chi2_contingency(cross)[1]\n",
    "if p_value > 0.05:\n",
    "    print('Accept the Null Hypothesis')\n",
    "    print('partial paresis is not related to class')\n",
    "else:\n",
    "    print('Fail to reject the Null Hypothesis')\n",
    "    print('partial paresis is related to class')"
   ]
  },
  {
   "cell_type": "code",
   "execution_count": 42,
   "id": "760a11cc",
   "metadata": {},
   "outputs": [
    {
     "data": {
      "image/png": "[encoded data removed]",
      "text/plain": [
       "<Figure size 640x480 with 1 Axes>"
      ]
     },
     "metadata": {},
     "output_type": "display_data"
    }
   ],
   "source": [
    "#muscle stiffness vs class\n",
    "pd.crosstab(df['class'],df['muscle stiffness']).plot(kind='bar')\n",
    "plt.show()\n",
    "    "
   ]
  },
  {
   "cell_type": "markdown",
   "id": "c57c3e43",
   "metadata": {},
   "source": [
    "* Observations :\n",
    "    * Those tested positive, a higher number of individuals did not have symptoms of muscle stiffness."
   ]
  },
  {
   "cell_type": "markdown",
   "id": "af07249a",
   "metadata": {},
   "source": [
    "#### Hypothesis Testing -  Chi-Square Test\n",
    "* Checking if muscle stiffness is related to class."
   ]
  },
  {
   "cell_type": "code",
   "execution_count": 43,
   "id": "e17bd176",
   "metadata": {},
   "outputs": [
    {
     "name": "stdout",
     "output_type": "stream",
     "text": [
      "Fail to reject the Null Hypothesis\n",
      "muscle stiffness is related to class\n"
     ]
    }
   ],
   "source": [
    "cross=pd.crosstab(df['class'],df['muscle stiffness'])\n",
    "p_value=stats.chi2_contingency(cross)[1]\n",
    "if p_value > 0.05:\n",
    "    print('Accept the Null Hypothesis')\n",
    "    print('muscle stiffness is not related to class')\n",
    "else:\n",
    "    print('Fail to reject the Null Hypothesis')\n",
    "    print('muscle stiffness is related to class')"
   ]
  },
  {
   "cell_type": "code",
   "execution_count": 44,
   "id": "159644e0",
   "metadata": {},
   "outputs": [
    {
     "data": {
      "image/png": "[encoded data removed]",
      "text/plain": [
       "<Figure size 640x480 with 1 Axes>"
      ]
     },
     "metadata": {},
     "output_type": "display_data"
    }
   ],
   "source": [
    "#Alopecia vs class\n",
    "pd.crosstab(df['class'],df['Alopecia']).plot(kind='bar')\n",
    "plt.show()\n",
    "    "
   ]
  },
  {
   "cell_type": "markdown",
   "id": "afb0d581",
   "metadata": {},
   "source": [
    "* Observations :\n",
    "    * Those tested positive, a higher number of individuals did not have symptoms of Alopecia."
   ]
  },
  {
   "cell_type": "markdown",
   "id": "5d6f70be",
   "metadata": {},
   "source": [
    "#### Hypothesis Testing -  Chi-Square Test\n",
    "* Checking if Alopecia is related to class."
   ]
  },
  {
   "cell_type": "code",
   "execution_count": 45,
   "id": "e9fc07b7",
   "metadata": {},
   "outputs": [
    {
     "name": "stdout",
     "output_type": "stream",
     "text": [
      "Fail to reject the Null Hypothesis\n",
      "Alopecia is related to class\n"
     ]
    }
   ],
   "source": [
    "cross=pd.crosstab(df['class'],df['Alopecia'])\n",
    "p_value=stats.chi2_contingency(cross)[1]\n",
    "if p_value > 0.05:\n",
    "    print('Accept the Null Hypothesis')\n",
    "    print('Alopecia is not related to class')\n",
    "else:\n",
    "    print('Fail to reject the Null Hypothesis')\n",
    "    print('Alopecia is related to class')"
   ]
  },
  {
   "cell_type": "code",
   "execution_count": 46,
   "id": "507cde9a",
   "metadata": {},
   "outputs": [
    {
     "data": {
      "image/png": "[encoded data removed]",
      "text/plain": [
       "<Figure size 640x480 with 1 Axes>"
      ]
     },
     "metadata": {},
     "output_type": "display_data"
    }
   ],
   "source": [
    "#Obesity vs class\n",
    "pd.crosstab(df['class'],df['Obesity']).plot(kind='bar')\n",
    "plt.show()\n",
    "    "
   ]
  },
  {
   "cell_type": "markdown",
   "id": "3458f0b9",
   "metadata": {},
   "source": [
    "* Observations :\n",
    "    * Those tested positive, a higher number of individuals did not have Obesity."
   ]
  },
  {
   "cell_type": "markdown",
   "id": "324a15f5",
   "metadata": {},
   "source": [
    "#### Hypothesis Testing -  Chi-Square Test\n",
    "* Checking if Obesity is related to class."
   ]
  },
  {
   "cell_type": "code",
   "execution_count": 47,
   "id": "8e2338e6",
   "metadata": {},
   "outputs": [
    {
     "name": "stdout",
     "output_type": "stream",
     "text": [
      "Accept the Null Hypothesis\n",
      "Obesity is not related to class\n"
     ]
    }
   ],
   "source": [
    "cross=pd.crosstab(df['class'],df['Obesity'])\n",
    "p_value=stats.chi2_contingency(cross)[1]\n",
    "if p_value > 0.05:\n",
    "    print('Accept the Null Hypothesis')\n",
    "    print('Obesity is not related to class')\n",
    "else:\n",
    "    print('Fail to reject the Null Hypothesis')\n",
    "    print('Obesity is related to class')"
   ]
  },
  {
   "cell_type": "markdown",
   "id": "aad536b8",
   "metadata": {},
   "source": [
    "* Summary Observation :\n",
    "    * Of all the variables, two variables *(Itching & Obesity)* have been statistically proven to not have relation with the             target."
   ]
  },
  {
   "cell_type": "markdown",
   "id": "b433a9e2",
   "metadata": {},
   "source": [
    "## Encoding the categorical variables\n"
   ]
  },
  {
   "cell_type": "markdown",
   "id": "f1ad502b",
   "metadata": {},
   "source": [
    "* Since most of the variables are binaries we will use label encoding."
   ]
  },
  {
   "cell_type": "code",
   "execution_count": 48,
   "id": "b383b359",
   "metadata": {},
   "outputs": [],
   "source": [
    "#Gender\n",
    "df['Gender']=df['Gender'].map({'Male':0,'Female':1})"
   ]
  },
  {
   "cell_type": "code",
   "execution_count": 49,
   "id": "c40c2666",
   "metadata": {},
   "outputs": [],
   "source": [
    "#Class\n",
    "df['class']=df['class'].map({'Positive':1,'Negative':0})"
   ]
  },
  {
   "cell_type": "code",
   "execution_count": 50,
   "id": "47602c11",
   "metadata": {},
   "outputs": [],
   "source": [
    "#Creating a loop for the remaining variables.\n",
    "for i in df:\n",
    "    if i not in ['Age','Gender','class']:\n",
    "        \n",
    "        df[i]=df[i].map({'No':0,'Yes':1})"
   ]
  },
  {
   "cell_type": "code",
   "execution_count": 51,
   "id": "04347e56",
   "metadata": {},
   "outputs": [
    {
     "data": {
      "text/html": [
       "<div>\n",
       "<style scoped>\n",
       "    .dataframe tbody tr th:only-of-type {\n",
       "        vertical-align: middle;\n",
       "    }\n",
       "\n",
       "    .dataframe tbody tr th {\n",
       "        vertical-align: top;\n",
       "    }\n",
       "\n",
       "    .dataframe thead th {\n",
       "        text-align: right;\n",
       "    }\n",
       "</style>\n",
       "<table border=\"1\" class=\"dataframe\">\n",
       "  <thead>\n",
       "    <tr style=\"text-align: right;\">\n",
       "      <th></th>\n",
       "      <th>Age</th>\n",
       "      <th>Gender</th>\n",
       "      <th>Polyuria</th>\n",
       "      <th>Polydipsia</th>\n",
       "      <th>sudden weight loss</th>\n",
       "      <th>weakness</th>\n",
       "      <th>Polyphagia</th>\n",
       "      <th>Genital thrush</th>\n",
       "      <th>visual blurring</th>\n",
       "      <th>Itching</th>\n",
       "      <th>Irritability</th>\n",
       "      <th>delayed healing</th>\n",
       "      <th>partial paresis</th>\n",
       "      <th>muscle stiffness</th>\n",
       "      <th>Alopecia</th>\n",
       "      <th>Obesity</th>\n",
       "      <th>class</th>\n",
       "    </tr>\n",
       "  </thead>\n",
       "  <tbody>\n",
       "    <tr>\n",
       "      <th>0</th>\n",
       "      <td>40</td>\n",
       "      <td>0</td>\n",
       "      <td>0</td>\n",
       "      <td>1</td>\n",
       "      <td>0</td>\n",
       "      <td>1</td>\n",
       "      <td>0</td>\n",
       "      <td>0</td>\n",
       "      <td>0</td>\n",
       "      <td>1</td>\n",
       "      <td>0</td>\n",
       "      <td>1</td>\n",
       "      <td>0</td>\n",
       "      <td>1</td>\n",
       "      <td>1</td>\n",
       "      <td>1</td>\n",
       "      <td>1</td>\n",
       "    </tr>\n",
       "    <tr>\n",
       "      <th>1</th>\n",
       "      <td>58</td>\n",
       "      <td>0</td>\n",
       "      <td>0</td>\n",
       "      <td>0</td>\n",
       "      <td>0</td>\n",
       "      <td>1</td>\n",
       "      <td>0</td>\n",
       "      <td>0</td>\n",
       "      <td>1</td>\n",
       "      <td>0</td>\n",
       "      <td>0</td>\n",
       "      <td>0</td>\n",
       "      <td>1</td>\n",
       "      <td>0</td>\n",
       "      <td>1</td>\n",
       "      <td>0</td>\n",
       "      <td>1</td>\n",
       "    </tr>\n",
       "    <tr>\n",
       "      <th>2</th>\n",
       "      <td>41</td>\n",
       "      <td>0</td>\n",
       "      <td>1</td>\n",
       "      <td>0</td>\n",
       "      <td>0</td>\n",
       "      <td>1</td>\n",
       "      <td>1</td>\n",
       "      <td>0</td>\n",
       "      <td>0</td>\n",
       "      <td>1</td>\n",
       "      <td>0</td>\n",
       "      <td>1</td>\n",
       "      <td>0</td>\n",
       "      <td>1</td>\n",
       "      <td>1</td>\n",
       "      <td>0</td>\n",
       "      <td>1</td>\n",
       "    </tr>\n",
       "    <tr>\n",
       "      <th>3</th>\n",
       "      <td>45</td>\n",
       "      <td>0</td>\n",
       "      <td>0</td>\n",
       "      <td>0</td>\n",
       "      <td>1</td>\n",
       "      <td>1</td>\n",
       "      <td>1</td>\n",
       "      <td>1</td>\n",
       "      <td>0</td>\n",
       "      <td>1</td>\n",
       "      <td>0</td>\n",
       "      <td>1</td>\n",
       "      <td>0</td>\n",
       "      <td>0</td>\n",
       "      <td>0</td>\n",
       "      <td>0</td>\n",
       "      <td>1</td>\n",
       "    </tr>\n",
       "    <tr>\n",
       "      <th>4</th>\n",
       "      <td>60</td>\n",
       "      <td>0</td>\n",
       "      <td>1</td>\n",
       "      <td>1</td>\n",
       "      <td>1</td>\n",
       "      <td>1</td>\n",
       "      <td>1</td>\n",
       "      <td>0</td>\n",
       "      <td>1</td>\n",
       "      <td>1</td>\n",
       "      <td>1</td>\n",
       "      <td>1</td>\n",
       "      <td>1</td>\n",
       "      <td>1</td>\n",
       "      <td>1</td>\n",
       "      <td>1</td>\n",
       "      <td>1</td>\n",
       "    </tr>\n",
       "    <tr>\n",
       "      <th>...</th>\n",
       "      <td>...</td>\n",
       "      <td>...</td>\n",
       "      <td>...</td>\n",
       "      <td>...</td>\n",
       "      <td>...</td>\n",
       "      <td>...</td>\n",
       "      <td>...</td>\n",
       "      <td>...</td>\n",
       "      <td>...</td>\n",
       "      <td>...</td>\n",
       "      <td>...</td>\n",
       "      <td>...</td>\n",
       "      <td>...</td>\n",
       "      <td>...</td>\n",
       "      <td>...</td>\n",
       "      <td>...</td>\n",
       "      <td>...</td>\n",
       "    </tr>\n",
       "    <tr>\n",
       "      <th>515</th>\n",
       "      <td>39</td>\n",
       "      <td>1</td>\n",
       "      <td>1</td>\n",
       "      <td>1</td>\n",
       "      <td>1</td>\n",
       "      <td>0</td>\n",
       "      <td>1</td>\n",
       "      <td>0</td>\n",
       "      <td>0</td>\n",
       "      <td>1</td>\n",
       "      <td>0</td>\n",
       "      <td>1</td>\n",
       "      <td>1</td>\n",
       "      <td>0</td>\n",
       "      <td>0</td>\n",
       "      <td>0</td>\n",
       "      <td>1</td>\n",
       "    </tr>\n",
       "    <tr>\n",
       "      <th>516</th>\n",
       "      <td>48</td>\n",
       "      <td>1</td>\n",
       "      <td>1</td>\n",
       "      <td>1</td>\n",
       "      <td>1</td>\n",
       "      <td>1</td>\n",
       "      <td>1</td>\n",
       "      <td>0</td>\n",
       "      <td>0</td>\n",
       "      <td>1</td>\n",
       "      <td>1</td>\n",
       "      <td>1</td>\n",
       "      <td>1</td>\n",
       "      <td>0</td>\n",
       "      <td>0</td>\n",
       "      <td>0</td>\n",
       "      <td>1</td>\n",
       "    </tr>\n",
       "    <tr>\n",
       "      <th>517</th>\n",
       "      <td>58</td>\n",
       "      <td>1</td>\n",
       "      <td>1</td>\n",
       "      <td>1</td>\n",
       "      <td>1</td>\n",
       "      <td>1</td>\n",
       "      <td>1</td>\n",
       "      <td>0</td>\n",
       "      <td>1</td>\n",
       "      <td>0</td>\n",
       "      <td>0</td>\n",
       "      <td>0</td>\n",
       "      <td>1</td>\n",
       "      <td>1</td>\n",
       "      <td>0</td>\n",
       "      <td>1</td>\n",
       "      <td>1</td>\n",
       "    </tr>\n",
       "    <tr>\n",
       "      <th>518</th>\n",
       "      <td>32</td>\n",
       "      <td>1</td>\n",
       "      <td>0</td>\n",
       "      <td>0</td>\n",
       "      <td>0</td>\n",
       "      <td>1</td>\n",
       "      <td>0</td>\n",
       "      <td>0</td>\n",
       "      <td>1</td>\n",
       "      <td>1</td>\n",
       "      <td>0</td>\n",
       "      <td>1</td>\n",
       "      <td>0</td>\n",
       "      <td>0</td>\n",
       "      <td>1</td>\n",
       "      <td>0</td>\n",
       "      <td>0</td>\n",
       "    </tr>\n",
       "    <tr>\n",
       "      <th>519</th>\n",
       "      <td>42</td>\n",
       "      <td>0</td>\n",
       "      <td>0</td>\n",
       "      <td>0</td>\n",
       "      <td>0</td>\n",
       "      <td>0</td>\n",
       "      <td>0</td>\n",
       "      <td>0</td>\n",
       "      <td>0</td>\n",
       "      <td>0</td>\n",
       "      <td>0</td>\n",
       "      <td>0</td>\n",
       "      <td>0</td>\n",
       "      <td>0</td>\n",
       "      <td>0</td>\n",
       "      <td>0</td>\n",
       "      <td>0</td>\n",
       "    </tr>\n",
       "  </tbody>\n",
       "</table>\n",
       "<p>520 rows × 17 columns</p>\n",
       "</div>"
      ],
      "text/plain": [
       "     Age  Gender  Polyuria  Polydipsia  sudden weight loss  weakness  \\\n",
       "0     40       0         0           1                   0         1   \n",
       "1     58       0         0           0                   0         1   \n",
       "2     41       0         1           0                   0         1   \n",
       "3     45       0         0           0                   1         1   \n",
       "4     60       0         1           1                   1         1   \n",
       "..   ...     ...       ...         ...                 ...       ...   \n",
       "515   39       1         1           1                   1         0   \n",
       "516   48       1         1           1                   1         1   \n",
       "517   58       1         1           1                   1         1   \n",
       "518   32       1         0           0                   0         1   \n",
       "519   42       0         0           0                   0         0   \n",
       "\n",
       "     Polyphagia  Genital thrush  visual blurring  Itching  Irritability  \\\n",
       "0             0               0                0        1             0   \n",
       "1             0               0                1        0             0   \n",
       "2             1               0                0        1             0   \n",
       "3             1               1                0        1             0   \n",
       "4             1               0                1        1             1   \n",
       "..          ...             ...              ...      ...           ...   \n",
       "515           1               0                0        1             0   \n",
       "516           1               0                0        1             1   \n",
       "517           1               0                1        0             0   \n",
       "518           0               0                1        1             0   \n",
       "519           0               0                0        0             0   \n",
       "\n",
       "     delayed healing  partial paresis  muscle stiffness  Alopecia  Obesity  \\\n",
       "0                  1                0                 1         1        1   \n",
       "1                  0                1                 0         1        0   \n",
       "2                  1                0                 1         1        0   \n",
       "3                  1                0                 0         0        0   \n",
       "4                  1                1                 1         1        1   \n",
       "..               ...              ...               ...       ...      ...   \n",
       "515                1                1                 0         0        0   \n",
       "516                1                1                 0         0        0   \n",
       "517                0                1                 1         0        1   \n",
       "518                1                0                 0         1        0   \n",
       "519                0                0                 0         0        0   \n",
       "\n",
       "     class  \n",
       "0        1  \n",
       "1        1  \n",
       "2        1  \n",
       "3        1  \n",
       "4        1  \n",
       "..     ...  \n",
       "515      1  \n",
       "516      1  \n",
       "517      1  \n",
       "518      0  \n",
       "519      0  \n",
       "\n",
       "[520 rows x 17 columns]"
      ]
     },
     "execution_count": 51,
     "metadata": {},
     "output_type": "execute_result"
    }
   ],
   "source": [
    "df"
   ]
  },
  {
   "cell_type": "markdown",
   "id": "3960a2a3",
   "metadata": {},
   "source": [
    "## Checking the distribution in the Target variable."
   ]
  },
  {
   "cell_type": "markdown",
   "id": "b01ebead",
   "metadata": {},
   "source": [
    "* This is done to make sure the model is supplied with balanced data."
   ]
  },
  {
   "cell_type": "code",
   "execution_count": 52,
   "id": "5d2b5ff0",
   "metadata": {},
   "outputs": [
    {
     "data": {
      "text/plain": [
       "1    320\n",
       "0    200\n",
       "Name: class, dtype: int64"
      ]
     },
     "execution_count": 52,
     "metadata": {},
     "output_type": "execute_result"
    }
   ],
   "source": [
    "df['class'].value_counts()"
   ]
  },
  {
   "cell_type": "markdown",
   "id": "30084312",
   "metadata": {},
   "source": [
    "* Observation :\n",
    "    * The distribution is fairly balanced."
   ]
  },
  {
   "cell_type": "markdown",
   "id": "55ea88f6",
   "metadata": {},
   "source": [
    "## Splitting the data"
   ]
  },
  {
   "cell_type": "code",
   "execution_count": 53,
   "id": "09ea9788",
   "metadata": {},
   "outputs": [],
   "source": [
    "X=df.drop('class',axis=1)\n",
    "y=df['class']"
   ]
  },
  {
   "cell_type": "code",
   "execution_count": 54,
   "id": "4e1ddbb8",
   "metadata": {},
   "outputs": [],
   "source": [
    "xtrain,xtest,ytrain,ytest=train_test_split(X,y,train_size=0.80)"
   ]
  },
  {
   "cell_type": "code",
   "execution_count": 55,
   "id": "b0d18c70",
   "metadata": {},
   "outputs": [],
   "source": [
    "#Creating an empty Dataframe to store the metrics from various models.\n",
    "Model_evaluation=pd.DataFrame(columns=['Model','Accuracy Score','Precision Score','Recall','F1 Score'])"
   ]
  },
  {
   "cell_type": "markdown",
   "id": "f371a524",
   "metadata": {},
   "source": [
    "## Defining functions."
   ]
  },
  {
   "cell_type": "code",
   "execution_count": 56,
   "id": "253ce183",
   "metadata": {},
   "outputs": [],
   "source": [
    "#Defining a function to get the metrics\n",
    "def perf_metric(test,pred):\n",
    "    accuracy=accuracy_score(test,pred)\n",
    "    precision=precision_score(test,pred)\n",
    "    recall=recall_score(test,pred)\n",
    "    f1score=f1_score(test,pred)\n",
    "    return (accuracy,precision,recall,f1score)"
   ]
  },
  {
   "cell_type": "code",
   "execution_count": 57,
   "id": "d868aedd",
   "metadata": {},
   "outputs": [],
   "source": [
    "#Defining a function to add the metrics into the dataframe\n",
    "def update_results(name,test,pred):\n",
    "    global perf_metric\n",
    "    global Model_evaluation\n",
    "    Model_evaluation=Model_evaluation.append({'Model':name,\n",
    "                               'Accuracy Score' : perf_metric(test,pred)[0],\n",
    "                               'Precision Score' : perf_metric(test,pred)[1],\n",
    "                                 'Recall' : perf_metric(test,pred)[2],\n",
    "                                   'F1 Score' : perf_metric(test,pred)[3]},\n",
    "                                            ignore_index=True)\n",
    "        "
   ]
  },
  {
   "cell_type": "markdown",
   "id": "554bf9f9",
   "metadata": {},
   "source": [
    "## Model 1 : Logistic Regression"
   ]
  },
  {
   "cell_type": "code",
   "execution_count": 58,
   "id": "5eb5a0ac",
   "metadata": {},
   "outputs": [],
   "source": [
    "#Logistic Regression\n",
    "lr=LogisticRegression()"
   ]
  },
  {
   "cell_type": "code",
   "execution_count": 59,
   "id": "fbd1f57b",
   "metadata": {},
   "outputs": [
    {
     "data": {
      "text/html": [
       "<style>#sk-container-id-1 {color: black;background-color: white;}#sk-container-id-1 pre{padding: 0;}#sk-container-id-1 div.sk-toggleable {background-color: white;}#sk-container-id-1 label.sk-toggleable__label {cursor: pointer;display: block;width: 100%;margin-bottom: 0;padding: 0.3em;box-sizing: border-box;text-align: center;}#sk-container-id-1 label.sk-toggleable__label-arrow:before {content: \"▸\";float: left;margin-right: 0.25em;color: #696969;}#sk-container-id-1 label.sk-toggleable__label-arrow:hover:before {color: black;}#sk-container-id-1 div.sk-estimator:hover label.sk-toggleable__label-arrow:before {color: black;}#sk-container-id-1 div.sk-toggleable__content {max-height: 0;max-width: 0;overflow: hidden;text-align: left;background-color: #f0f8ff;}#sk-container-id-1 div.sk-toggleable__content pre {margin: 0.2em;color: black;border-radius: 0.25em;background-color: #f0f8ff;}#sk-container-id-1 input.sk-toggleable__control:checked~div.sk-toggleable__content {max-height: 200px;max-width: 100%;overflow: auto;}#sk-container-id-1 input.sk-toggleable__control:checked~label.sk-toggleable__label-arrow:before {content: \"▾\";}#sk-container-id-1 div.sk-estimator input.sk-toggleable__control:checked~label.sk-toggleable__label {background-color: #d4ebff;}#sk-container-id-1 div.sk-label input.sk-toggleable__control:checked~label.sk-toggleable__label {background-color: #d4ebff;}#sk-container-id-1 input.sk-hidden--visually {border: 0;clip: rect(1px 1px 1px 1px);clip: rect(1px, 1px, 1px, 1px);height: 1px;margin: -1px;overflow: hidden;padding: 0;position: absolute;width: 1px;}#sk-container-id-1 div.sk-estimator {font-family: monospace;background-color: #f0f8ff;border: 1px dotted black;border-radius: 0.25em;box-sizing: border-box;margin-bottom: 0.5em;}#sk-container-id-1 div.sk-estimator:hover {background-color: #d4ebff;}#sk-container-id-1 div.sk-parallel-item::after {content: \"\";width: 100%;border-bottom: 1px solid gray;flex-grow: 1;}#sk-container-id-1 div.sk-label:hover label.sk-toggleable__label {background-color: #d4ebff;}#sk-container-id-1 div.sk-serial::before {content: \"\";position: absolute;border-left: 1px solid gray;box-sizing: border-box;top: 0;bottom: 0;left: 50%;z-index: 0;}#sk-container-id-1 div.sk-serial {display: flex;flex-direction: column;align-items: center;background-color: white;padding-right: 0.2em;padding-left: 0.2em;position: relative;}#sk-container-id-1 div.sk-item {position: relative;z-index: 1;}#sk-container-id-1 div.sk-parallel {display: flex;align-items: stretch;justify-content: center;background-color: white;position: relative;}#sk-container-id-1 div.sk-item::before, #sk-container-id-1 div.sk-parallel-item::before {content: \"\";position: absolute;border-left: 1px solid gray;box-sizing: border-box;top: 0;bottom: 0;left: 50%;z-index: -1;}#sk-container-id-1 div.sk-parallel-item {display: flex;flex-direction: column;z-index: 1;position: relative;background-color: white;}#sk-container-id-1 div.sk-parallel-item:first-child::after {align-self: flex-end;width: 50%;}#sk-container-id-1 div.sk-parallel-item:last-child::after {align-self: flex-start;width: 50%;}#sk-container-id-1 div.sk-parallel-item:only-child::after {width: 0;}#sk-container-id-1 div.sk-dashed-wrapped {border: 1px dashed gray;margin: 0 0.4em 0.5em 0.4em;box-sizing: border-box;padding-bottom: 0.4em;background-color: white;}#sk-container-id-1 div.sk-label label {font-family: monospace;font-weight: bold;display: inline-block;line-height: 1.2em;}#sk-container-id-1 div.sk-label-container {text-align: center;}#sk-container-id-1 div.sk-container {/* jupyter's `normalize.less` sets `[hidden] { display: none; }` but bootstrap.min.css set `[hidden] { display: none !important; }` so we also need the `!important` here to be able to override the default hidden behavior on the sphinx rendered scikit-learn.org. See: https://github.com/scikit-learn/scikit-learn/issues/21755 */display: inline-block !important;position: relative;}#sk-container-id-1 div.sk-text-repr-fallback {display: none;}</style><div id=\"sk-container-id-1\" class=\"sk-top-container\"><div class=\"sk-text-repr-fallback\"><pre>LogisticRegression()</pre><b>In a Jupyter environment, please rerun this cell to show the HTML representation or trust the notebook. <br />On GitHub, the HTML representation is unable to render, please try loading this page with nbviewer.org.</b></div><div class=\"sk-container\" hidden><div class=\"sk-item\"><div class=\"sk-estimator sk-toggleable\"><input class=\"sk-toggleable__control sk-hidden--visually\" id=\"sk-estimator-id-1\" type=\"checkbox\" checked><label for=\"sk-estimator-id-1\" class=\"sk-toggleable__label sk-toggleable__label-arrow\">LogisticRegression</label><div class=\"sk-toggleable__content\"><pre>LogisticRegression()</pre></div></div></div></div></div>"
      ],
      "text/plain": [
       "LogisticRegression()"
      ]
     },
     "execution_count": 59,
     "metadata": {},
     "output_type": "execute_result"
    }
   ],
   "source": [
    "#Fitting the model\n",
    "lr.fit(xtrain,ytrain)"
   ]
  },
  {
   "cell_type": "code",
   "execution_count": 60,
   "id": "bd8a4ca7",
   "metadata": {},
   "outputs": [],
   "source": [
    "#Prediction on the train dataset\n",
    "ypred_train=lr.predict(xtrain)"
   ]
  },
  {
   "cell_type": "code",
   "execution_count": 61,
   "id": "b18f67e0",
   "metadata": {},
   "outputs": [],
   "source": [
    "#Prediction on the test dataset\n",
    "ypred_test=lr.predict(xtest)\n"
   ]
  },
  {
   "cell_type": "code",
   "execution_count": 62,
   "id": "814bcafc",
   "metadata": {},
   "outputs": [],
   "source": [
    "#Updating the dataframe for the train performance\n",
    "update_results('Logistic Regression_fm -Train',test=ytrain,pred=ypred_train)"
   ]
  },
  {
   "cell_type": "code",
   "execution_count": 63,
   "id": "4d77cae5",
   "metadata": {},
   "outputs": [],
   "source": [
    "#Updating the dataframe for the test performance\n",
    "update_results('Logistic Regression_fm -Test',test=ytest,pred=ypred_test)"
   ]
  },
  {
   "cell_type": "code",
   "execution_count": 64,
   "id": "a883c156",
   "metadata": {},
   "outputs": [
    {
     "data": {
      "text/html": [
       "<div>\n",
       "<style scoped>\n",
       "    .dataframe tbody tr th:only-of-type {\n",
       "        vertical-align: middle;\n",
       "    }\n",
       "\n",
       "    .dataframe tbody tr th {\n",
       "        vertical-align: top;\n",
       "    }\n",
       "\n",
       "    .dataframe thead th {\n",
       "        text-align: right;\n",
       "    }\n",
       "</style>\n",
       "<table border=\"1\" class=\"dataframe\">\n",
       "  <thead>\n",
       "    <tr style=\"text-align: right;\">\n",
       "      <th></th>\n",
       "      <th>Model</th>\n",
       "      <th>Accuracy Score</th>\n",
       "      <th>Precision Score</th>\n",
       "      <th>Recall</th>\n",
       "      <th>F1 Score</th>\n",
       "    </tr>\n",
       "  </thead>\n",
       "  <tbody>\n",
       "    <tr>\n",
       "      <th>0</th>\n",
       "      <td>Logistic Regression_fm -Train</td>\n",
       "      <td>0.930288</td>\n",
       "      <td>0.941406</td>\n",
       "      <td>0.945098</td>\n",
       "      <td>0.943249</td>\n",
       "    </tr>\n",
       "    <tr>\n",
       "      <th>1</th>\n",
       "      <td>Logistic Regression_fm -Test</td>\n",
       "      <td>0.951923</td>\n",
       "      <td>0.968750</td>\n",
       "      <td>0.953846</td>\n",
       "      <td>0.961240</td>\n",
       "    </tr>\n",
       "  </tbody>\n",
       "</table>\n",
       "</div>"
      ],
      "text/plain": [
       "                           Model  Accuracy Score  Precision Score    Recall  \\\n",
       "0  Logistic Regression_fm -Train        0.930288         0.941406  0.945098   \n",
       "1   Logistic Regression_fm -Test        0.951923         0.968750  0.953846   \n",
       "\n",
       "   F1 Score  \n",
       "0  0.943249  \n",
       "1  0.961240  "
      ]
     },
     "execution_count": 64,
     "metadata": {},
     "output_type": "execute_result"
    }
   ],
   "source": [
    "#Results from Logistic Regression\n",
    "Model_evaluation"
   ]
  },
  {
   "cell_type": "markdown",
   "id": "49005dbb",
   "metadata": {},
   "source": [
    "## Model 2 : Gaussian Naive Bayes"
   ]
  },
  {
   "cell_type": "code",
   "execution_count": 65,
   "id": "22ae21cf",
   "metadata": {},
   "outputs": [],
   "source": [
    "#Gaussian Naive Bayes\n",
    "nb=GaussianNB()"
   ]
  },
  {
   "cell_type": "code",
   "execution_count": 66,
   "id": "79699527",
   "metadata": {},
   "outputs": [
    {
     "data": {
      "text/html": [
       "<style>#sk-container-id-2 {color: black;background-color: white;}#sk-container-id-2 pre{padding: 0;}#sk-container-id-2 div.sk-toggleable {background-color: white;}#sk-container-id-2 label.sk-toggleable__label {cursor: pointer;display: block;width: 100%;margin-bottom: 0;padding: 0.3em;box-sizing: border-box;text-align: center;}#sk-container-id-2 label.sk-toggleable__label-arrow:before {content: \"▸\";float: left;margin-right: 0.25em;color: #696969;}#sk-container-id-2 label.sk-toggleable__label-arrow:hover:before {color: black;}#sk-container-id-2 div.sk-estimator:hover label.sk-toggleable__label-arrow:before {color: black;}#sk-container-id-2 div.sk-toggleable__content {max-height: 0;max-width: 0;overflow: hidden;text-align: left;background-color: #f0f8ff;}#sk-container-id-2 div.sk-toggleable__content pre {margin: 0.2em;color: black;border-radius: 0.25em;background-color: #f0f8ff;}#sk-container-id-2 input.sk-toggleable__control:checked~div.sk-toggleable__content {max-height: 200px;max-width: 100%;overflow: auto;}#sk-container-id-2 input.sk-toggleable__control:checked~label.sk-toggleable__label-arrow:before {content: \"▾\";}#sk-container-id-2 div.sk-estimator input.sk-toggleable__control:checked~label.sk-toggleable__label {background-color: #d4ebff;}#sk-container-id-2 div.sk-label input.sk-toggleable__control:checked~label.sk-toggleable__label {background-color: #d4ebff;}#sk-container-id-2 input.sk-hidden--visually {border: 0;clip: rect(1px 1px 1px 1px);clip: rect(1px, 1px, 1px, 1px);height: 1px;margin: -1px;overflow: hidden;padding: 0;position: absolute;width: 1px;}#sk-container-id-2 div.sk-estimator {font-family: monospace;background-color: #f0f8ff;border: 1px dotted black;border-radius: 0.25em;box-sizing: border-box;margin-bottom: 0.5em;}#sk-container-id-2 div.sk-estimator:hover {background-color: #d4ebff;}#sk-container-id-2 div.sk-parallel-item::after {content: \"\";width: 100%;border-bottom: 1px solid gray;flex-grow: 1;}#sk-container-id-2 div.sk-label:hover label.sk-toggleable__label {background-color: #d4ebff;}#sk-container-id-2 div.sk-serial::before {content: \"\";position: absolute;border-left: 1px solid gray;box-sizing: border-box;top: 0;bottom: 0;left: 50%;z-index: 0;}#sk-container-id-2 div.sk-serial {display: flex;flex-direction: column;align-items: center;background-color: white;padding-right: 0.2em;padding-left: 0.2em;position: relative;}#sk-container-id-2 div.sk-item {position: relative;z-index: 1;}#sk-container-id-2 div.sk-parallel {display: flex;align-items: stretch;justify-content: center;background-color: white;position: relative;}#sk-container-id-2 div.sk-item::before, #sk-container-id-2 div.sk-parallel-item::before {content: \"\";position: absolute;border-left: 1px solid gray;box-sizing: border-box;top: 0;bottom: 0;left: 50%;z-index: -1;}#sk-container-id-2 div.sk-parallel-item {display: flex;flex-direction: column;z-index: 1;position: relative;background-color: white;}#sk-container-id-2 div.sk-parallel-item:first-child::after {align-self: flex-end;width: 50%;}#sk-container-id-2 div.sk-parallel-item:last-child::after {align-self: flex-start;width: 50%;}#sk-container-id-2 div.sk-parallel-item:only-child::after {width: 0;}#sk-container-id-2 div.sk-dashed-wrapped {border: 1px dashed gray;margin: 0 0.4em 0.5em 0.4em;box-sizing: border-box;padding-bottom: 0.4em;background-color: white;}#sk-container-id-2 div.sk-label label {font-family: monospace;font-weight: bold;display: inline-block;line-height: 1.2em;}#sk-container-id-2 div.sk-label-container {text-align: center;}#sk-container-id-2 div.sk-container {/* jupyter's `normalize.less` sets `[hidden] { display: none; }` but bootstrap.min.css set `[hidden] { display: none !important; }` so we also need the `!important` here to be able to override the default hidden behavior on the sphinx rendered scikit-learn.org. See: https://github.com/scikit-learn/scikit-learn/issues/21755 */display: inline-block !important;position: relative;}#sk-container-id-2 div.sk-text-repr-fallback {display: none;}</style><div id=\"sk-container-id-2\" class=\"sk-top-container\"><div class=\"sk-text-repr-fallback\"><pre>GaussianNB()</pre><b>In a Jupyter environment, please rerun this cell to show the HTML representation or trust the notebook. <br />On GitHub, the HTML representation is unable to render, please try loading this page with nbviewer.org.</b></div><div class=\"sk-container\" hidden><div class=\"sk-item\"><div class=\"sk-estimator sk-toggleable\"><input class=\"sk-toggleable__control sk-hidden--visually\" id=\"sk-estimator-id-2\" type=\"checkbox\" checked><label for=\"sk-estimator-id-2\" class=\"sk-toggleable__label sk-toggleable__label-arrow\">GaussianNB</label><div class=\"sk-toggleable__content\"><pre>GaussianNB()</pre></div></div></div></div></div>"
      ],
      "text/plain": [
       "GaussianNB()"
      ]
     },
     "execution_count": 66,
     "metadata": {},
     "output_type": "execute_result"
    }
   ],
   "source": [
    "#Fitting the model\n",
    "nb.fit(xtrain,ytrain)"
   ]
  },
  {
   "cell_type": "code",
   "execution_count": 67,
   "id": "89706dac",
   "metadata": {},
   "outputs": [],
   "source": [
    "#Prediction on the train dataset\n",
    "ypred_train=nb.predict(xtrain)"
   ]
  },
  {
   "cell_type": "code",
   "execution_count": 68,
   "id": "7e5d8fc9",
   "metadata": {},
   "outputs": [],
   "source": [
    "#Prediction the test dataset\n",
    "ypred_test=nb.predict(xtest)"
   ]
  },
  {
   "cell_type": "code",
   "execution_count": 69,
   "id": "8f3db15c",
   "metadata": {},
   "outputs": [],
   "source": [
    "#Updating the dataframe for the train performance\n",
    "update_results('Gaussian Naive Bayes_fm -Train',test=ytrain,pred=ypred_train)"
   ]
  },
  {
   "cell_type": "code",
   "execution_count": 70,
   "id": "693228f1",
   "metadata": {},
   "outputs": [],
   "source": [
    "#Updating the dataframe for the test performance\n",
    "update_results('Gaussian Naive Bayes_fm -Test',test=ytest,pred=ypred_test)"
   ]
  },
  {
   "cell_type": "code",
   "execution_count": 71,
   "id": "23100208",
   "metadata": {},
   "outputs": [
    {
     "data": {
      "text/html": [
       "<div>\n",
       "<style scoped>\n",
       "    .dataframe tbody tr th:only-of-type {\n",
       "        vertical-align: middle;\n",
       "    }\n",
       "\n",
       "    .dataframe tbody tr th {\n",
       "        vertical-align: top;\n",
       "    }\n",
       "\n",
       "    .dataframe thead th {\n",
       "        text-align: right;\n",
       "    }\n",
       "</style>\n",
       "<table border=\"1\" class=\"dataframe\">\n",
       "  <thead>\n",
       "    <tr style=\"text-align: right;\">\n",
       "      <th></th>\n",
       "      <th>Model</th>\n",
       "      <th>Accuracy Score</th>\n",
       "      <th>Precision Score</th>\n",
       "      <th>Recall</th>\n",
       "      <th>F1 Score</th>\n",
       "    </tr>\n",
       "  </thead>\n",
       "  <tbody>\n",
       "    <tr>\n",
       "      <th>2</th>\n",
       "      <td>Gaussian Naive Bayes_fm -Train</td>\n",
       "      <td>0.884615</td>\n",
       "      <td>0.902724</td>\n",
       "      <td>0.909804</td>\n",
       "      <td>0.906250</td>\n",
       "    </tr>\n",
       "    <tr>\n",
       "      <th>3</th>\n",
       "      <td>Gaussian Naive Bayes_fm -Test</td>\n",
       "      <td>0.865385</td>\n",
       "      <td>0.869565</td>\n",
       "      <td>0.923077</td>\n",
       "      <td>0.895522</td>\n",
       "    </tr>\n",
       "  </tbody>\n",
       "</table>\n",
       "</div>"
      ],
      "text/plain": [
       "                            Model  Accuracy Score  Precision Score    Recall  \\\n",
       "2  Gaussian Naive Bayes_fm -Train        0.884615         0.902724  0.909804   \n",
       "3   Gaussian Naive Bayes_fm -Test        0.865385         0.869565  0.923077   \n",
       "\n",
       "   F1 Score  \n",
       "2  0.906250  \n",
       "3  0.895522  "
      ]
     },
     "execution_count": 71,
     "metadata": {},
     "output_type": "execute_result"
    }
   ],
   "source": [
    "#Results from Gaussian Naive Bayes\n",
    "Model_evaluation.iloc[-2:]"
   ]
  },
  {
   "cell_type": "markdown",
   "id": "f0aa76a7",
   "metadata": {},
   "source": [
    "## Model 3 : Decision Tree\n"
   ]
  },
  {
   "cell_type": "code",
   "execution_count": 72,
   "id": "69cddcb1",
   "metadata": {},
   "outputs": [],
   "source": [
    "#Decision tree\n",
    "dt=DecisionTreeClassifier()"
   ]
  },
  {
   "cell_type": "code",
   "execution_count": 73,
   "id": "d6c01d9c",
   "metadata": {},
   "outputs": [
    {
     "data": {
      "text/html": [
       "<style>#sk-container-id-3 {color: black;background-color: white;}#sk-container-id-3 pre{padding: 0;}#sk-container-id-3 div.sk-toggleable {background-color: white;}#sk-container-id-3 label.sk-toggleable__label {cursor: pointer;display: block;width: 100%;margin-bottom: 0;padding: 0.3em;box-sizing: border-box;text-align: center;}#sk-container-id-3 label.sk-toggleable__label-arrow:before {content: \"▸\";float: left;margin-right: 0.25em;color: #696969;}#sk-container-id-3 label.sk-toggleable__label-arrow:hover:before {color: black;}#sk-container-id-3 div.sk-estimator:hover label.sk-toggleable__label-arrow:before {color: black;}#sk-container-id-3 div.sk-toggleable__content {max-height: 0;max-width: 0;overflow: hidden;text-align: left;background-color: #f0f8ff;}#sk-container-id-3 div.sk-toggleable__content pre {margin: 0.2em;color: black;border-radius: 0.25em;background-color: #f0f8ff;}#sk-container-id-3 input.sk-toggleable__control:checked~div.sk-toggleable__content {max-height: 200px;max-width: 100%;overflow: auto;}#sk-container-id-3 input.sk-toggleable__control:checked~label.sk-toggleable__label-arrow:before {content: \"▾\";}#sk-container-id-3 div.sk-estimator input.sk-toggleable__control:checked~label.sk-toggleable__label {background-color: #d4ebff;}#sk-container-id-3 div.sk-label input.sk-toggleable__control:checked~label.sk-toggleable__label {background-color: #d4ebff;}#sk-container-id-3 input.sk-hidden--visually {border: 0;clip: rect(1px 1px 1px 1px);clip: rect(1px, 1px, 1px, 1px);height: 1px;margin: -1px;overflow: hidden;padding: 0;position: absolute;width: 1px;}#sk-container-id-3 div.sk-estimator {font-family: monospace;background-color: #f0f8ff;border: 1px dotted black;border-radius: 0.25em;box-sizing: border-box;margin-bottom: 0.5em;}#sk-container-id-3 div.sk-estimator:hover {background-color: #d4ebff;}#sk-container-id-3 div.sk-parallel-item::after {content: \"\";width: 100%;border-bottom: 1px solid gray;flex-grow: 1;}#sk-container-id-3 div.sk-label:hover label.sk-toggleable__label {background-color: #d4ebff;}#sk-container-id-3 div.sk-serial::before {content: \"\";position: absolute;border-left: 1px solid gray;box-sizing: border-box;top: 0;bottom: 0;left: 50%;z-index: 0;}#sk-container-id-3 div.sk-serial {display: flex;flex-direction: column;align-items: center;background-color: white;padding-right: 0.2em;padding-left: 0.2em;position: relative;}#sk-container-id-3 div.sk-item {position: relative;z-index: 1;}#sk-container-id-3 div.sk-parallel {display: flex;align-items: stretch;justify-content: center;background-color: white;position: relative;}#sk-container-id-3 div.sk-item::before, #sk-container-id-3 div.sk-parallel-item::before {content: \"\";position: absolute;border-left: 1px solid gray;box-sizing: border-box;top: 0;bottom: 0;left: 50%;z-index: -1;}#sk-container-id-3 div.sk-parallel-item {display: flex;flex-direction: column;z-index: 1;position: relative;background-color: white;}#sk-container-id-3 div.sk-parallel-item:first-child::after {align-self: flex-end;width: 50%;}#sk-container-id-3 div.sk-parallel-item:last-child::after {align-self: flex-start;width: 50%;}#sk-container-id-3 div.sk-parallel-item:only-child::after {width: 0;}#sk-container-id-3 div.sk-dashed-wrapped {border: 1px dashed gray;margin: 0 0.4em 0.5em 0.4em;box-sizing: border-box;padding-bottom: 0.4em;background-color: white;}#sk-container-id-3 div.sk-label label {font-family: monospace;font-weight: bold;display: inline-block;line-height: 1.2em;}#sk-container-id-3 div.sk-label-container {text-align: center;}#sk-container-id-3 div.sk-container {/* jupyter's `normalize.less` sets `[hidden] { display: none; }` but bootstrap.min.css set `[hidden] { display: none !important; }` so we also need the `!important` here to be able to override the default hidden behavior on the sphinx rendered scikit-learn.org. See: https://github.com/scikit-learn/scikit-learn/issues/21755 */display: inline-block !important;position: relative;}#sk-container-id-3 div.sk-text-repr-fallback {display: none;}</style><div id=\"sk-container-id-3\" class=\"sk-top-container\"><div class=\"sk-text-repr-fallback\"><pre>DecisionTreeClassifier()</pre><b>In a Jupyter environment, please rerun this cell to show the HTML representation or trust the notebook. <br />On GitHub, the HTML representation is unable to render, please try loading this page with nbviewer.org.</b></div><div class=\"sk-container\" hidden><div class=\"sk-item\"><div class=\"sk-estimator sk-toggleable\"><input class=\"sk-toggleable__control sk-hidden--visually\" id=\"sk-estimator-id-3\" type=\"checkbox\" checked><label for=\"sk-estimator-id-3\" class=\"sk-toggleable__label sk-toggleable__label-arrow\">DecisionTreeClassifier</label><div class=\"sk-toggleable__content\"><pre>DecisionTreeClassifier()</pre></div></div></div></div></div>"
      ],
      "text/plain": [
       "DecisionTreeClassifier()"
      ]
     },
     "execution_count": 73,
     "metadata": {},
     "output_type": "execute_result"
    }
   ],
   "source": [
    "#Fitting the model\n",
    "dt.fit(xtrain,ytrain)"
   ]
  },
  {
   "cell_type": "code",
   "execution_count": 74,
   "id": "a7350552",
   "metadata": {},
   "outputs": [],
   "source": [
    "#Prediction on the train dataset\n",
    "ypred_train=dt.predict(xtrain)"
   ]
  },
  {
   "cell_type": "code",
   "execution_count": 75,
   "id": "358f6f85",
   "metadata": {},
   "outputs": [],
   "source": [
    "#Prediction the test dataset\n",
    "ypred_test=dt.predict(xtest)"
   ]
  },
  {
   "cell_type": "code",
   "execution_count": 76,
   "id": "b6f98543",
   "metadata": {},
   "outputs": [],
   "source": [
    "#Updating the dataframe for the train performance\n",
    "update_results('Decision Tree_fm -Train',test=ytrain,pred=ypred_train)"
   ]
  },
  {
   "cell_type": "code",
   "execution_count": 77,
   "id": "137bffad",
   "metadata": {},
   "outputs": [],
   "source": [
    "#Updating the dataframe for the test performance\n",
    "update_results('Decision Tree_fm -Test',test=ytest,pred=ypred_test)"
   ]
  },
  {
   "cell_type": "code",
   "execution_count": 78,
   "id": "2ae4f3c8",
   "metadata": {},
   "outputs": [
    {
     "data": {
      "text/html": [
       "<div>\n",
       "<style scoped>\n",
       "    .dataframe tbody tr th:only-of-type {\n",
       "        vertical-align: middle;\n",
       "    }\n",
       "\n",
       "    .dataframe tbody tr th {\n",
       "        vertical-align: top;\n",
       "    }\n",
       "\n",
       "    .dataframe thead th {\n",
       "        text-align: right;\n",
       "    }\n",
       "</style>\n",
       "<table border=\"1\" class=\"dataframe\">\n",
       "  <thead>\n",
       "    <tr style=\"text-align: right;\">\n",
       "      <th></th>\n",
       "      <th>Model</th>\n",
       "      <th>Accuracy Score</th>\n",
       "      <th>Precision Score</th>\n",
       "      <th>Recall</th>\n",
       "      <th>F1 Score</th>\n",
       "    </tr>\n",
       "  </thead>\n",
       "  <tbody>\n",
       "    <tr>\n",
       "      <th>4</th>\n",
       "      <td>Decision Tree_fm -Train</td>\n",
       "      <td>1.000000</td>\n",
       "      <td>1.00000</td>\n",
       "      <td>1.000000</td>\n",
       "      <td>1.00000</td>\n",
       "    </tr>\n",
       "    <tr>\n",
       "      <th>5</th>\n",
       "      <td>Decision Tree_fm -Test</td>\n",
       "      <td>0.951923</td>\n",
       "      <td>0.96875</td>\n",
       "      <td>0.953846</td>\n",
       "      <td>0.96124</td>\n",
       "    </tr>\n",
       "  </tbody>\n",
       "</table>\n",
       "</div>"
      ],
      "text/plain": [
       "                     Model  Accuracy Score  Precision Score    Recall  \\\n",
       "4  Decision Tree_fm -Train        1.000000          1.00000  1.000000   \n",
       "5   Decision Tree_fm -Test        0.951923          0.96875  0.953846   \n",
       "\n",
       "   F1 Score  \n",
       "4   1.00000  \n",
       "5   0.96124  "
      ]
     },
     "execution_count": 78,
     "metadata": {},
     "output_type": "execute_result"
    }
   ],
   "source": [
    "#Results from Decision Tree\n",
    "Model_evaluation.iloc[4:6,:]"
   ]
  },
  {
   "cell_type": "code",
   "execution_count": 79,
   "id": "43ed7786",
   "metadata": {},
   "outputs": [
    {
     "data": {
      "image/png": "[encoded data removed]",
      "text/plain": [
       "<Figure size 1200x800 with 1 Axes>"
      ]
     },
     "metadata": {},
     "output_type": "display_data"
    }
   ],
   "source": [
    "#Visualizing the decision tree\n",
    "plt.figure(figsize=(12, 8))\n",
    "plot_tree(dt, filled=True, feature_names=df.columns, rounded=True)\n",
    "plt.show()"
   ]
  },
  {
   "cell_type": "code",
   "execution_count": 80,
   "id": "8706b79e",
   "metadata": {},
   "outputs": [
    {
     "data": {
      "text/html": [
       "<div>\n",
       "<style scoped>\n",
       "    .dataframe tbody tr th:only-of-type {\n",
       "        vertical-align: middle;\n",
       "    }\n",
       "\n",
       "    .dataframe tbody tr th {\n",
       "        vertical-align: top;\n",
       "    }\n",
       "\n",
       "    .dataframe thead th {\n",
       "        text-align: right;\n",
       "    }\n",
       "</style>\n",
       "<table border=\"1\" class=\"dataframe\">\n",
       "  <thead>\n",
       "    <tr style=\"text-align: right;\">\n",
       "      <th></th>\n",
       "      <th>Model</th>\n",
       "      <th>Accuracy Score</th>\n",
       "      <th>Precision Score</th>\n",
       "      <th>Recall</th>\n",
       "      <th>F1 Score</th>\n",
       "    </tr>\n",
       "  </thead>\n",
       "  <tbody>\n",
       "    <tr>\n",
       "      <th>0</th>\n",
       "      <td>Logistic Regression_fm -Train</td>\n",
       "      <td>0.930288</td>\n",
       "      <td>0.941406</td>\n",
       "      <td>0.945098</td>\n",
       "      <td>0.943249</td>\n",
       "    </tr>\n",
       "    <tr>\n",
       "      <th>1</th>\n",
       "      <td>Logistic Regression_fm -Test</td>\n",
       "      <td>0.951923</td>\n",
       "      <td>0.968750</td>\n",
       "      <td>0.953846</td>\n",
       "      <td>0.961240</td>\n",
       "    </tr>\n",
       "    <tr>\n",
       "      <th>2</th>\n",
       "      <td>Gaussian Naive Bayes_fm -Train</td>\n",
       "      <td>0.884615</td>\n",
       "      <td>0.902724</td>\n",
       "      <td>0.909804</td>\n",
       "      <td>0.906250</td>\n",
       "    </tr>\n",
       "    <tr>\n",
       "      <th>3</th>\n",
       "      <td>Gaussian Naive Bayes_fm -Test</td>\n",
       "      <td>0.865385</td>\n",
       "      <td>0.869565</td>\n",
       "      <td>0.923077</td>\n",
       "      <td>0.895522</td>\n",
       "    </tr>\n",
       "    <tr>\n",
       "      <th>4</th>\n",
       "      <td>Decision Tree_fm -Train</td>\n",
       "      <td>1.000000</td>\n",
       "      <td>1.000000</td>\n",
       "      <td>1.000000</td>\n",
       "      <td>1.000000</td>\n",
       "    </tr>\n",
       "    <tr>\n",
       "      <th>5</th>\n",
       "      <td>Decision Tree_fm -Test</td>\n",
       "      <td>0.951923</td>\n",
       "      <td>0.968750</td>\n",
       "      <td>0.953846</td>\n",
       "      <td>0.961240</td>\n",
       "    </tr>\n",
       "  </tbody>\n",
       "</table>\n",
       "</div>"
      ],
      "text/plain": [
       "                            Model  Accuracy Score  Precision Score    Recall  \\\n",
       "0   Logistic Regression_fm -Train        0.930288         0.941406  0.945098   \n",
       "1    Logistic Regression_fm -Test        0.951923         0.968750  0.953846   \n",
       "2  Gaussian Naive Bayes_fm -Train        0.884615         0.902724  0.909804   \n",
       "3   Gaussian Naive Bayes_fm -Test        0.865385         0.869565  0.923077   \n",
       "4         Decision Tree_fm -Train        1.000000         1.000000  1.000000   \n",
       "5          Decision Tree_fm -Test        0.951923         0.968750  0.953846   \n",
       "\n",
       "   F1 Score  \n",
       "0  0.943249  \n",
       "1  0.961240  \n",
       "2  0.906250  \n",
       "3  0.895522  \n",
       "4  1.000000  \n",
       "5  0.961240  "
      ]
     },
     "execution_count": 80,
     "metadata": {},
     "output_type": "execute_result"
    }
   ],
   "source": [
    "Model_evaluation"
   ]
  },
  {
   "cell_type": "code",
   "execution_count": 81,
   "id": "0d6b9ff1",
   "metadata": {},
   "outputs": [],
   "source": [
    "# Building models after dropping the unrelated columns to check wether it improves the model performance."
   ]
  },
  {
   "cell_type": "code",
   "execution_count": 82,
   "id": "0ddbc946",
   "metadata": {},
   "outputs": [],
   "source": [
    "X=df.drop(['class','Itching','Obesity'],axis=1)\n",
    "y=df['class']"
   ]
  },
  {
   "cell_type": "code",
   "execution_count": 83,
   "id": "5e447135",
   "metadata": {},
   "outputs": [],
   "source": [
    "xtrain,xtest,ytrain,ytest=train_test_split(X,y,train_size=0.80)"
   ]
  },
  {
   "cell_type": "markdown",
   "id": "9d522c8d",
   "metadata": {},
   "source": [
    "### Model : Logistic Regression"
   ]
  },
  {
   "cell_type": "code",
   "execution_count": 84,
   "id": "d625aa9d",
   "metadata": {},
   "outputs": [],
   "source": [
    "lr=LogisticRegression()"
   ]
  },
  {
   "cell_type": "code",
   "execution_count": 85,
   "id": "e638b10c",
   "metadata": {},
   "outputs": [
    {
     "data": {
      "text/html": [
       "<style>#sk-container-id-4 {color: black;background-color: white;}#sk-container-id-4 pre{padding: 0;}#sk-container-id-4 div.sk-toggleable {background-color: white;}#sk-container-id-4 label.sk-toggleable__label {cursor: pointer;display: block;width: 100%;margin-bottom: 0;padding: 0.3em;box-sizing: border-box;text-align: center;}#sk-container-id-4 label.sk-toggleable__label-arrow:before {content: \"▸\";float: left;margin-right: 0.25em;color: #696969;}#sk-container-id-4 label.sk-toggleable__label-arrow:hover:before {color: black;}#sk-container-id-4 div.sk-estimator:hover label.sk-toggleable__label-arrow:before {color: black;}#sk-container-id-4 div.sk-toggleable__content {max-height: 0;max-width: 0;overflow: hidden;text-align: left;background-color: #f0f8ff;}#sk-container-id-4 div.sk-toggleable__content pre {margin: 0.2em;color: black;border-radius: 0.25em;background-color: #f0f8ff;}#sk-container-id-4 input.sk-toggleable__control:checked~div.sk-toggleable__content {max-height: 200px;max-width: 100%;overflow: auto;}#sk-container-id-4 input.sk-toggleable__control:checked~label.sk-toggleable__label-arrow:before {content: \"▾\";}#sk-container-id-4 div.sk-estimator input.sk-toggleable__control:checked~label.sk-toggleable__label {background-color: #d4ebff;}#sk-container-id-4 div.sk-label input.sk-toggleable__control:checked~label.sk-toggleable__label {background-color: #d4ebff;}#sk-container-id-4 input.sk-hidden--visually {border: 0;clip: rect(1px 1px 1px 1px);clip: rect(1px, 1px, 1px, 1px);height: 1px;margin: -1px;overflow: hidden;padding: 0;position: absolute;width: 1px;}#sk-container-id-4 div.sk-estimator {font-family: monospace;background-color: #f0f8ff;border: 1px dotted black;border-radius: 0.25em;box-sizing: border-box;margin-bottom: 0.5em;}#sk-container-id-4 div.sk-estimator:hover {background-color: #d4ebff;}#sk-container-id-4 div.sk-parallel-item::after {content: \"\";width: 100%;border-bottom: 1px solid gray;flex-grow: 1;}#sk-container-id-4 div.sk-label:hover label.sk-toggleable__label {background-color: #d4ebff;}#sk-container-id-4 div.sk-serial::before {content: \"\";position: absolute;border-left: 1px solid gray;box-sizing: border-box;top: 0;bottom: 0;left: 50%;z-index: 0;}#sk-container-id-4 div.sk-serial {display: flex;flex-direction: column;align-items: center;background-color: white;padding-right: 0.2em;padding-left: 0.2em;position: relative;}#sk-container-id-4 div.sk-item {position: relative;z-index: 1;}#sk-container-id-4 div.sk-parallel {display: flex;align-items: stretch;justify-content: center;background-color: white;position: relative;}#sk-container-id-4 div.sk-item::before, #sk-container-id-4 div.sk-parallel-item::before {content: \"\";position: absolute;border-left: 1px solid gray;box-sizing: border-box;top: 0;bottom: 0;left: 50%;z-index: -1;}#sk-container-id-4 div.sk-parallel-item {display: flex;flex-direction: column;z-index: 1;position: relative;background-color: white;}#sk-container-id-4 div.sk-parallel-item:first-child::after {align-self: flex-end;width: 50%;}#sk-container-id-4 div.sk-parallel-item:last-child::after {align-self: flex-start;width: 50%;}#sk-container-id-4 div.sk-parallel-item:only-child::after {width: 0;}#sk-container-id-4 div.sk-dashed-wrapped {border: 1px dashed gray;margin: 0 0.4em 0.5em 0.4em;box-sizing: border-box;padding-bottom: 0.4em;background-color: white;}#sk-container-id-4 div.sk-label label {font-family: monospace;font-weight: bold;display: inline-block;line-height: 1.2em;}#sk-container-id-4 div.sk-label-container {text-align: center;}#sk-container-id-4 div.sk-container {/* jupyter's `normalize.less` sets `[hidden] { display: none; }` but bootstrap.min.css set `[hidden] { display: none !important; }` so we also need the `!important` here to be able to override the default hidden behavior on the sphinx rendered scikit-learn.org. See: https://github.com/scikit-learn/scikit-learn/issues/21755 */display: inline-block !important;position: relative;}#sk-container-id-4 div.sk-text-repr-fallback {display: none;}</style><div id=\"sk-container-id-4\" class=\"sk-top-container\"><div class=\"sk-text-repr-fallback\"><pre>LogisticRegression()</pre><b>In a Jupyter environment, please rerun this cell to show the HTML representation or trust the notebook. <br />On GitHub, the HTML representation is unable to render, please try loading this page with nbviewer.org.</b></div><div class=\"sk-container\" hidden><div class=\"sk-item\"><div class=\"sk-estimator sk-toggleable\"><input class=\"sk-toggleable__control sk-hidden--visually\" id=\"sk-estimator-id-4\" type=\"checkbox\" checked><label for=\"sk-estimator-id-4\" class=\"sk-toggleable__label sk-toggleable__label-arrow\">LogisticRegression</label><div class=\"sk-toggleable__content\"><pre>LogisticRegression()</pre></div></div></div></div></div>"
      ],
      "text/plain": [
       "LogisticRegression()"
      ]
     },
     "execution_count": 85,
     "metadata": {},
     "output_type": "execute_result"
    }
   ],
   "source": [
    "lr.fit(xtrain,ytrain)"
   ]
  },
  {
   "cell_type": "code",
   "execution_count": 86,
   "id": "efa83436",
   "metadata": {},
   "outputs": [],
   "source": [
    "#Prediction on the train dataset\n",
    "ypred_train=lr.predict(xtrain)"
   ]
  },
  {
   "cell_type": "code",
   "execution_count": 87,
   "id": "30dd46d0",
   "metadata": {},
   "outputs": [],
   "source": [
    "#Prediction on the test dataset\n",
    "ypred_test=lr.predict(xtest)\n"
   ]
  },
  {
   "cell_type": "code",
   "execution_count": 88,
   "id": "bf7a1184",
   "metadata": {},
   "outputs": [],
   "source": [
    "#Updating the dataframe for the train performance\n",
    "update_results('Logistic Regression_2 -Train',test=ytrain,pred=ypred_train)"
   ]
  },
  {
   "cell_type": "code",
   "execution_count": 89,
   "id": "c741cfed",
   "metadata": {},
   "outputs": [],
   "source": [
    "#Updating the dataframe for the test performance\n",
    "update_results('Logistic Regression_2 -Test',test=ytest,pred=ypred_test)"
   ]
  },
  {
   "cell_type": "code",
   "execution_count": 90,
   "id": "b9a24339",
   "metadata": {},
   "outputs": [
    {
     "data": {
      "text/html": [
       "<div>\n",
       "<style scoped>\n",
       "    .dataframe tbody tr th:only-of-type {\n",
       "        vertical-align: middle;\n",
       "    }\n",
       "\n",
       "    .dataframe tbody tr th {\n",
       "        vertical-align: top;\n",
       "    }\n",
       "\n",
       "    .dataframe thead th {\n",
       "        text-align: right;\n",
       "    }\n",
       "</style>\n",
       "<table border=\"1\" class=\"dataframe\">\n",
       "  <thead>\n",
       "    <tr style=\"text-align: right;\">\n",
       "      <th></th>\n",
       "      <th>Model</th>\n",
       "      <th>Accuracy Score</th>\n",
       "      <th>Precision Score</th>\n",
       "      <th>Recall</th>\n",
       "      <th>F1 Score</th>\n",
       "    </tr>\n",
       "  </thead>\n",
       "  <tbody>\n",
       "    <tr>\n",
       "      <th>6</th>\n",
       "      <td>Logistic Regression_2 -Train</td>\n",
       "      <td>0.935096</td>\n",
       "      <td>0.948413</td>\n",
       "      <td>0.944664</td>\n",
       "      <td>0.946535</td>\n",
       "    </tr>\n",
       "    <tr>\n",
       "      <th>7</th>\n",
       "      <td>Logistic Regression_2 -Test</td>\n",
       "      <td>0.884615</td>\n",
       "      <td>0.966102</td>\n",
       "      <td>0.850746</td>\n",
       "      <td>0.904762</td>\n",
       "    </tr>\n",
       "  </tbody>\n",
       "</table>\n",
       "</div>"
      ],
      "text/plain": [
       "                          Model  Accuracy Score  Precision Score    Recall  \\\n",
       "6  Logistic Regression_2 -Train        0.935096         0.948413  0.944664   \n",
       "7   Logistic Regression_2 -Test        0.884615         0.966102  0.850746   \n",
       "\n",
       "   F1 Score  \n",
       "6  0.946535  \n",
       "7  0.904762  "
      ]
     },
     "execution_count": 90,
     "metadata": {},
     "output_type": "execute_result"
    }
   ],
   "source": [
    "#Results from Logistic Regression\n",
    "Model_evaluation[-2:]"
   ]
  },
  {
   "cell_type": "markdown",
   "id": "06528f06",
   "metadata": {},
   "source": [
    "### Model : Naive Bayes"
   ]
  },
  {
   "cell_type": "code",
   "execution_count": 91,
   "id": "90681f78",
   "metadata": {},
   "outputs": [],
   "source": [
    "nb=GaussianNB()"
   ]
  },
  {
   "cell_type": "code",
   "execution_count": 92,
   "id": "70051020",
   "metadata": {},
   "outputs": [
    {
     "data": {
      "text/html": [
       "<style>#sk-container-id-5 {color: black;background-color: white;}#sk-container-id-5 pre{padding: 0;}#sk-container-id-5 div.sk-toggleable {background-color: white;}#sk-container-id-5 label.sk-toggleable__label {cursor: pointer;display: block;width: 100%;margin-bottom: 0;padding: 0.3em;box-sizing: border-box;text-align: center;}#sk-container-id-5 label.sk-toggleable__label-arrow:before {content: \"▸\";float: left;margin-right: 0.25em;color: #696969;}#sk-container-id-5 label.sk-toggleable__label-arrow:hover:before {color: black;}#sk-container-id-5 div.sk-estimator:hover label.sk-toggleable__label-arrow:before {color: black;}#sk-container-id-5 div.sk-toggleable__content {max-height: 0;max-width: 0;overflow: hidden;text-align: left;background-color: #f0f8ff;}#sk-container-id-5 div.sk-toggleable__content pre {margin: 0.2em;color: black;border-radius: 0.25em;background-color: #f0f8ff;}#sk-container-id-5 input.sk-toggleable__control:checked~div.sk-toggleable__content {max-height: 200px;max-width: 100%;overflow: auto;}#sk-container-id-5 input.sk-toggleable__control:checked~label.sk-toggleable__label-arrow:before {content: \"▾\";}#sk-container-id-5 div.sk-estimator input.sk-toggleable__control:checked~label.sk-toggleable__label {background-color: #d4ebff;}#sk-container-id-5 div.sk-label input.sk-toggleable__control:checked~label.sk-toggleable__label {background-color: #d4ebff;}#sk-container-id-5 input.sk-hidden--visually {border: 0;clip: rect(1px 1px 1px 1px);clip: rect(1px, 1px, 1px, 1px);height: 1px;margin: -1px;overflow: hidden;padding: 0;position: absolute;width: 1px;}#sk-container-id-5 div.sk-estimator {font-family: monospace;background-color: #f0f8ff;border: 1px dotted black;border-radius: 0.25em;box-sizing: border-box;margin-bottom: 0.5em;}#sk-container-id-5 div.sk-estimator:hover {background-color: #d4ebff;}#sk-container-id-5 div.sk-parallel-item::after {content: \"\";width: 100%;border-bottom: 1px solid gray;flex-grow: 1;}#sk-container-id-5 div.sk-label:hover label.sk-toggleable__label {background-color: #d4ebff;}#sk-container-id-5 div.sk-serial::before {content: \"\";position: absolute;border-left: 1px solid gray;box-sizing: border-box;top: 0;bottom: 0;left: 50%;z-index: 0;}#sk-container-id-5 div.sk-serial {display: flex;flex-direction: column;align-items: center;background-color: white;padding-right: 0.2em;padding-left: 0.2em;position: relative;}#sk-container-id-5 div.sk-item {position: relative;z-index: 1;}#sk-container-id-5 div.sk-parallel {display: flex;align-items: stretch;justify-content: center;background-color: white;position: relative;}#sk-container-id-5 div.sk-item::before, #sk-container-id-5 div.sk-parallel-item::before {content: \"\";position: absolute;border-left: 1px solid gray;box-sizing: border-box;top: 0;bottom: 0;left: 50%;z-index: -1;}#sk-container-id-5 div.sk-parallel-item {display: flex;flex-direction: column;z-index: 1;position: relative;background-color: white;}#sk-container-id-5 div.sk-parallel-item:first-child::after {align-self: flex-end;width: 50%;}#sk-container-id-5 div.sk-parallel-item:last-child::after {align-self: flex-start;width: 50%;}#sk-container-id-5 div.sk-parallel-item:only-child::after {width: 0;}#sk-container-id-5 div.sk-dashed-wrapped {border: 1px dashed gray;margin: 0 0.4em 0.5em 0.4em;box-sizing: border-box;padding-bottom: 0.4em;background-color: white;}#sk-container-id-5 div.sk-label label {font-family: monospace;font-weight: bold;display: inline-block;line-height: 1.2em;}#sk-container-id-5 div.sk-label-container {text-align: center;}#sk-container-id-5 div.sk-container {/* jupyter's `normalize.less` sets `[hidden] { display: none; }` but bootstrap.min.css set `[hidden] { display: none !important; }` so we also need the `!important` here to be able to override the default hidden behavior on the sphinx rendered scikit-learn.org. See: https://github.com/scikit-learn/scikit-learn/issues/21755 */display: inline-block !important;position: relative;}#sk-container-id-5 div.sk-text-repr-fallback {display: none;}</style><div id=\"sk-container-id-5\" class=\"sk-top-container\"><div class=\"sk-text-repr-fallback\"><pre>GaussianNB()</pre><b>In a Jupyter environment, please rerun this cell to show the HTML representation or trust the notebook. <br />On GitHub, the HTML representation is unable to render, please try loading this page with nbviewer.org.</b></div><div class=\"sk-container\" hidden><div class=\"sk-item\"><div class=\"sk-estimator sk-toggleable\"><input class=\"sk-toggleable__control sk-hidden--visually\" id=\"sk-estimator-id-5\" type=\"checkbox\" checked><label for=\"sk-estimator-id-5\" class=\"sk-toggleable__label sk-toggleable__label-arrow\">GaussianNB</label><div class=\"sk-toggleable__content\"><pre>GaussianNB()</pre></div></div></div></div></div>"
      ],
      "text/plain": [
       "GaussianNB()"
      ]
     },
     "execution_count": 92,
     "metadata": {},
     "output_type": "execute_result"
    }
   ],
   "source": [
    "nb.fit(xtrain,ytrain)"
   ]
  },
  {
   "cell_type": "code",
   "execution_count": 93,
   "id": "f5392232",
   "metadata": {},
   "outputs": [],
   "source": [
    "#Predicting the train dataset\n",
    "ypred_train=nb.predict(xtrain)"
   ]
  },
  {
   "cell_type": "code",
   "execution_count": 94,
   "id": "da77b902",
   "metadata": {},
   "outputs": [],
   "source": [
    "#Predicting the test datset\n",
    "ypred_test=nb.predict(xtest)"
   ]
  },
  {
   "cell_type": "code",
   "execution_count": 95,
   "id": "2b528d25",
   "metadata": {},
   "outputs": [],
   "source": [
    "#Updating the dataframe for the train performance\n",
    "update_results('Gaussian Naive Bayes_2 -Train',test=ytrain,pred=ypred_train)"
   ]
  },
  {
   "cell_type": "code",
   "execution_count": 96,
   "id": "6e92e60f",
   "metadata": {},
   "outputs": [],
   "source": [
    "#Updating the dataframe for the test performance\n",
    "update_results('Gaussian Naive Bayes_2 -Test',test=ytest,pred=ypred_test)"
   ]
  },
  {
   "cell_type": "code",
   "execution_count": 97,
   "id": "d185d8fc",
   "metadata": {},
   "outputs": [
    {
     "data": {
      "text/html": [
       "<div>\n",
       "<style scoped>\n",
       "    .dataframe tbody tr th:only-of-type {\n",
       "        vertical-align: middle;\n",
       "    }\n",
       "\n",
       "    .dataframe tbody tr th {\n",
       "        vertical-align: top;\n",
       "    }\n",
       "\n",
       "    .dataframe thead th {\n",
       "        text-align: right;\n",
       "    }\n",
       "</style>\n",
       "<table border=\"1\" class=\"dataframe\">\n",
       "  <thead>\n",
       "    <tr style=\"text-align: right;\">\n",
       "      <th></th>\n",
       "      <th>Model</th>\n",
       "      <th>Accuracy Score</th>\n",
       "      <th>Precision Score</th>\n",
       "      <th>Recall</th>\n",
       "      <th>F1 Score</th>\n",
       "    </tr>\n",
       "  </thead>\n",
       "  <tbody>\n",
       "    <tr>\n",
       "      <th>8</th>\n",
       "      <td>Gaussian Naive Bayes_2 -Train</td>\n",
       "      <td>0.884615</td>\n",
       "      <td>0.911647</td>\n",
       "      <td>0.897233</td>\n",
       "      <td>0.904382</td>\n",
       "    </tr>\n",
       "    <tr>\n",
       "      <th>9</th>\n",
       "      <td>Gaussian Naive Bayes_2 -Test</td>\n",
       "      <td>0.913462</td>\n",
       "      <td>0.953125</td>\n",
       "      <td>0.910448</td>\n",
       "      <td>0.931298</td>\n",
       "    </tr>\n",
       "  </tbody>\n",
       "</table>\n",
       "</div>"
      ],
      "text/plain": [
       "                           Model  Accuracy Score  Precision Score    Recall  \\\n",
       "8  Gaussian Naive Bayes_2 -Train        0.884615         0.911647  0.897233   \n",
       "9   Gaussian Naive Bayes_2 -Test        0.913462         0.953125  0.910448   \n",
       "\n",
       "   F1 Score  \n",
       "8  0.904382  \n",
       "9  0.931298  "
      ]
     },
     "execution_count": 97,
     "metadata": {},
     "output_type": "execute_result"
    }
   ],
   "source": [
    "#Results from Gaussian Naive Bayes\n",
    "Model_evaluation.iloc[-2:,:]"
   ]
  },
  {
   "cell_type": "markdown",
   "id": "b0a883b6",
   "metadata": {},
   "source": [
    "### Model : Decision Tree"
   ]
  },
  {
   "cell_type": "code",
   "execution_count": 98,
   "id": "d6715d16",
   "metadata": {},
   "outputs": [],
   "source": [
    "dt=DecisionTreeClassifier()"
   ]
  },
  {
   "cell_type": "code",
   "execution_count": 99,
   "id": "c0b22a04",
   "metadata": {},
   "outputs": [
    {
     "data": {
      "text/html": [
       "<style>#sk-container-id-6 {color: black;background-color: white;}#sk-container-id-6 pre{padding: 0;}#sk-container-id-6 div.sk-toggleable {background-color: white;}#sk-container-id-6 label.sk-toggleable__label {cursor: pointer;display: block;width: 100%;margin-bottom: 0;padding: 0.3em;box-sizing: border-box;text-align: center;}#sk-container-id-6 label.sk-toggleable__label-arrow:before {content: \"▸\";float: left;margin-right: 0.25em;color: #696969;}#sk-container-id-6 label.sk-toggleable__label-arrow:hover:before {color: black;}#sk-container-id-6 div.sk-estimator:hover label.sk-toggleable__label-arrow:before {color: black;}#sk-container-id-6 div.sk-toggleable__content {max-height: 0;max-width: 0;overflow: hidden;text-align: left;background-color: #f0f8ff;}#sk-container-id-6 div.sk-toggleable__content pre {margin: 0.2em;color: black;border-radius: 0.25em;background-color: #f0f8ff;}#sk-container-id-6 input.sk-toggleable__control:checked~div.sk-toggleable__content {max-height: 200px;max-width: 100%;overflow: auto;}#sk-container-id-6 input.sk-toggleable__control:checked~label.sk-toggleable__label-arrow:before {content: \"▾\";}#sk-container-id-6 div.sk-estimator input.sk-toggleable__control:checked~label.sk-toggleable__label {background-color: #d4ebff;}#sk-container-id-6 div.sk-label input.sk-toggleable__control:checked~label.sk-toggleable__label {background-color: #d4ebff;}#sk-container-id-6 input.sk-hidden--visually {border: 0;clip: rect(1px 1px 1px 1px);clip: rect(1px, 1px, 1px, 1px);height: 1px;margin: -1px;overflow: hidden;padding: 0;position: absolute;width: 1px;}#sk-container-id-6 div.sk-estimator {font-family: monospace;background-color: #f0f8ff;border: 1px dotted black;border-radius: 0.25em;box-sizing: border-box;margin-bottom: 0.5em;}#sk-container-id-6 div.sk-estimator:hover {background-color: #d4ebff;}#sk-container-id-6 div.sk-parallel-item::after {content: \"\";width: 100%;border-bottom: 1px solid gray;flex-grow: 1;}#sk-container-id-6 div.sk-label:hover label.sk-toggleable__label {background-color: #d4ebff;}#sk-container-id-6 div.sk-serial::before {content: \"\";position: absolute;border-left: 1px solid gray;box-sizing: border-box;top: 0;bottom: 0;left: 50%;z-index: 0;}#sk-container-id-6 div.sk-serial {display: flex;flex-direction: column;align-items: center;background-color: white;padding-right: 0.2em;padding-left: 0.2em;position: relative;}#sk-container-id-6 div.sk-item {position: relative;z-index: 1;}#sk-container-id-6 div.sk-parallel {display: flex;align-items: stretch;justify-content: center;background-color: white;position: relative;}#sk-container-id-6 div.sk-item::before, #sk-container-id-6 div.sk-parallel-item::before {content: \"\";position: absolute;border-left: 1px solid gray;box-sizing: border-box;top: 0;bottom: 0;left: 50%;z-index: -1;}#sk-container-id-6 div.sk-parallel-item {display: flex;flex-direction: column;z-index: 1;position: relative;background-color: white;}#sk-container-id-6 div.sk-parallel-item:first-child::after {align-self: flex-end;width: 50%;}#sk-container-id-6 div.sk-parallel-item:last-child::after {align-self: flex-start;width: 50%;}#sk-container-id-6 div.sk-parallel-item:only-child::after {width: 0;}#sk-container-id-6 div.sk-dashed-wrapped {border: 1px dashed gray;margin: 0 0.4em 0.5em 0.4em;box-sizing: border-box;padding-bottom: 0.4em;background-color: white;}#sk-container-id-6 div.sk-label label {font-family: monospace;font-weight: bold;display: inline-block;line-height: 1.2em;}#sk-container-id-6 div.sk-label-container {text-align: center;}#sk-container-id-6 div.sk-container {/* jupyter's `normalize.less` sets `[hidden] { display: none; }` but bootstrap.min.css set `[hidden] { display: none !important; }` so we also need the `!important` here to be able to override the default hidden behavior on the sphinx rendered scikit-learn.org. See: https://github.com/scikit-learn/scikit-learn/issues/21755 */display: inline-block !important;position: relative;}#sk-container-id-6 div.sk-text-repr-fallback {display: none;}</style><div id=\"sk-container-id-6\" class=\"sk-top-container\"><div class=\"sk-text-repr-fallback\"><pre>DecisionTreeClassifier()</pre><b>In a Jupyter environment, please rerun this cell to show the HTML representation or trust the notebook. <br />On GitHub, the HTML representation is unable to render, please try loading this page with nbviewer.org.</b></div><div class=\"sk-container\" hidden><div class=\"sk-item\"><div class=\"sk-estimator sk-toggleable\"><input class=\"sk-toggleable__control sk-hidden--visually\" id=\"sk-estimator-id-6\" type=\"checkbox\" checked><label for=\"sk-estimator-id-6\" class=\"sk-toggleable__label sk-toggleable__label-arrow\">DecisionTreeClassifier</label><div class=\"sk-toggleable__content\"><pre>DecisionTreeClassifier()</pre></div></div></div></div></div>"
      ],
      "text/plain": [
       "DecisionTreeClassifier()"
      ]
     },
     "execution_count": 99,
     "metadata": {},
     "output_type": "execute_result"
    }
   ],
   "source": [
    "dt.fit(xtrain,ytrain)"
   ]
  },
  {
   "cell_type": "code",
   "execution_count": 100,
   "id": "86e0634d",
   "metadata": {},
   "outputs": [],
   "source": [
    "#Predictions from the train dataset\n",
    "ypred_train=dt.predict(xtrain)"
   ]
  },
  {
   "cell_type": "code",
   "execution_count": 101,
   "id": "023a2a76",
   "metadata": {},
   "outputs": [],
   "source": [
    "#Prediction from the test dataset\n",
    "ypred_test=dt.predict(xtest)"
   ]
  },
  {
   "cell_type": "code",
   "execution_count": 102,
   "id": "ae3367ef",
   "metadata": {},
   "outputs": [],
   "source": [
    "#Updating the dataframe for the train performance\n",
    "update_results('Decision Tree_2 -Train',test=ytrain,pred=ypred_train)"
   ]
  },
  {
   "cell_type": "code",
   "execution_count": 103,
   "id": "b925b5b5",
   "metadata": {},
   "outputs": [],
   "source": [
    "#Updating the dataframe for the train performance\n",
    "update_results('Decision Tree_2 -Test',test=ytest,pred=ypred_test)"
   ]
  },
  {
   "cell_type": "code",
   "execution_count": 104,
   "id": "25fa54e5",
   "metadata": {},
   "outputs": [
    {
     "data": {
      "text/html": [
       "<div>\n",
       "<style scoped>\n",
       "    .dataframe tbody tr th:only-of-type {\n",
       "        vertical-align: middle;\n",
       "    }\n",
       "\n",
       "    .dataframe tbody tr th {\n",
       "        vertical-align: top;\n",
       "    }\n",
       "\n",
       "    .dataframe thead th {\n",
       "        text-align: right;\n",
       "    }\n",
       "</style>\n",
       "<table border=\"1\" class=\"dataframe\">\n",
       "  <thead>\n",
       "    <tr style=\"text-align: right;\">\n",
       "      <th></th>\n",
       "      <th>Model</th>\n",
       "      <th>Accuracy Score</th>\n",
       "      <th>Precision Score</th>\n",
       "      <th>Recall</th>\n",
       "      <th>F1 Score</th>\n",
       "    </tr>\n",
       "  </thead>\n",
       "  <tbody>\n",
       "    <tr>\n",
       "      <th>10</th>\n",
       "      <td>Decision Tree_2 -Train</td>\n",
       "      <td>1.000000</td>\n",
       "      <td>1.000000</td>\n",
       "      <td>1.000000</td>\n",
       "      <td>1.000000</td>\n",
       "    </tr>\n",
       "    <tr>\n",
       "      <th>11</th>\n",
       "      <td>Decision Tree_2 -Test</td>\n",
       "      <td>0.923077</td>\n",
       "      <td>0.968254</td>\n",
       "      <td>0.910448</td>\n",
       "      <td>0.938462</td>\n",
       "    </tr>\n",
       "  </tbody>\n",
       "</table>\n",
       "</div>"
      ],
      "text/plain": [
       "                     Model  Accuracy Score  Precision Score    Recall  \\\n",
       "10  Decision Tree_2 -Train        1.000000         1.000000  1.000000   \n",
       "11   Decision Tree_2 -Test        0.923077         0.968254  0.910448   \n",
       "\n",
       "    F1 Score  \n",
       "10  1.000000  \n",
       "11  0.938462  "
      ]
     },
     "execution_count": 104,
     "metadata": {},
     "output_type": "execute_result"
    }
   ],
   "source": [
    "#Results from Decision Tree \n",
    "Model_evaluation.iloc[-2:,:]"
   ]
  },
  {
   "cell_type": "markdown",
   "id": "890c0940",
   "metadata": {},
   "source": [
    "## Model Selection."
   ]
  },
  {
   "cell_type": "code",
   "execution_count": 105,
   "id": "60641e98",
   "metadata": {},
   "outputs": [
    {
     "data": {
      "text/html": [
       "<div>\n",
       "<style scoped>\n",
       "    .dataframe tbody tr th:only-of-type {\n",
       "        vertical-align: middle;\n",
       "    }\n",
       "\n",
       "    .dataframe tbody tr th {\n",
       "        vertical-align: top;\n",
       "    }\n",
       "\n",
       "    .dataframe thead th {\n",
       "        text-align: right;\n",
       "    }\n",
       "</style>\n",
       "<table border=\"1\" class=\"dataframe\">\n",
       "  <thead>\n",
       "    <tr style=\"text-align: right;\">\n",
       "      <th></th>\n",
       "      <th>Model</th>\n",
       "      <th>Accuracy Score</th>\n",
       "      <th>Precision Score</th>\n",
       "      <th>Recall</th>\n",
       "      <th>F1 Score</th>\n",
       "    </tr>\n",
       "  </thead>\n",
       "  <tbody>\n",
       "    <tr>\n",
       "      <th>0</th>\n",
       "      <td>Logistic Regression_fm -Train</td>\n",
       "      <td>0.930288</td>\n",
       "      <td>0.941406</td>\n",
       "      <td>0.945098</td>\n",
       "      <td>0.943249</td>\n",
       "    </tr>\n",
       "    <tr>\n",
       "      <th>1</th>\n",
       "      <td>Logistic Regression_fm -Test</td>\n",
       "      <td>0.951923</td>\n",
       "      <td>0.968750</td>\n",
       "      <td>0.953846</td>\n",
       "      <td>0.961240</td>\n",
       "    </tr>\n",
       "    <tr>\n",
       "      <th>2</th>\n",
       "      <td>Gaussian Naive Bayes_fm -Train</td>\n",
       "      <td>0.884615</td>\n",
       "      <td>0.902724</td>\n",
       "      <td>0.909804</td>\n",
       "      <td>0.906250</td>\n",
       "    </tr>\n",
       "    <tr>\n",
       "      <th>3</th>\n",
       "      <td>Gaussian Naive Bayes_fm -Test</td>\n",
       "      <td>0.865385</td>\n",
       "      <td>0.869565</td>\n",
       "      <td>0.923077</td>\n",
       "      <td>0.895522</td>\n",
       "    </tr>\n",
       "    <tr>\n",
       "      <th>4</th>\n",
       "      <td>Decision Tree_fm -Train</td>\n",
       "      <td>1.000000</td>\n",
       "      <td>1.000000</td>\n",
       "      <td>1.000000</td>\n",
       "      <td>1.000000</td>\n",
       "    </tr>\n",
       "    <tr>\n",
       "      <th>5</th>\n",
       "      <td>Decision Tree_fm -Test</td>\n",
       "      <td>0.951923</td>\n",
       "      <td>0.968750</td>\n",
       "      <td>0.953846</td>\n",
       "      <td>0.961240</td>\n",
       "    </tr>\n",
       "    <tr>\n",
       "      <th>6</th>\n",
       "      <td>Logistic Regression_2 -Train</td>\n",
       "      <td>0.935096</td>\n",
       "      <td>0.948413</td>\n",
       "      <td>0.944664</td>\n",
       "      <td>0.946535</td>\n",
       "    </tr>\n",
       "    <tr>\n",
       "      <th>7</th>\n",
       "      <td>Logistic Regression_2 -Test</td>\n",
       "      <td>0.884615</td>\n",
       "      <td>0.966102</td>\n",
       "      <td>0.850746</td>\n",
       "      <td>0.904762</td>\n",
       "    </tr>\n",
       "    <tr>\n",
       "      <th>8</th>\n",
       "      <td>Gaussian Naive Bayes_2 -Train</td>\n",
       "      <td>0.884615</td>\n",
       "      <td>0.911647</td>\n",
       "      <td>0.897233</td>\n",
       "      <td>0.904382</td>\n",
       "    </tr>\n",
       "    <tr>\n",
       "      <th>9</th>\n",
       "      <td>Gaussian Naive Bayes_2 -Test</td>\n",
       "      <td>0.913462</td>\n",
       "      <td>0.953125</td>\n",
       "      <td>0.910448</td>\n",
       "      <td>0.931298</td>\n",
       "    </tr>\n",
       "    <tr>\n",
       "      <th>10</th>\n",
       "      <td>Decision Tree_2 -Train</td>\n",
       "      <td>1.000000</td>\n",
       "      <td>1.000000</td>\n",
       "      <td>1.000000</td>\n",
       "      <td>1.000000</td>\n",
       "    </tr>\n",
       "    <tr>\n",
       "      <th>11</th>\n",
       "      <td>Decision Tree_2 -Test</td>\n",
       "      <td>0.923077</td>\n",
       "      <td>0.968254</td>\n",
       "      <td>0.910448</td>\n",
       "      <td>0.938462</td>\n",
       "    </tr>\n",
       "  </tbody>\n",
       "</table>\n",
       "</div>"
      ],
      "text/plain": [
       "                             Model  Accuracy Score  Precision Score    Recall  \\\n",
       "0    Logistic Regression_fm -Train        0.930288         0.941406  0.945098   \n",
       "1     Logistic Regression_fm -Test        0.951923         0.968750  0.953846   \n",
       "2   Gaussian Naive Bayes_fm -Train        0.884615         0.902724  0.909804   \n",
       "3    Gaussian Naive Bayes_fm -Test        0.865385         0.869565  0.923077   \n",
       "4          Decision Tree_fm -Train        1.000000         1.000000  1.000000   \n",
       "5           Decision Tree_fm -Test        0.951923         0.968750  0.953846   \n",
       "6     Logistic Regression_2 -Train        0.935096         0.948413  0.944664   \n",
       "7      Logistic Regression_2 -Test        0.884615         0.966102  0.850746   \n",
       "8    Gaussian Naive Bayes_2 -Train        0.884615         0.911647  0.897233   \n",
       "9     Gaussian Naive Bayes_2 -Test        0.913462         0.953125  0.910448   \n",
       "10          Decision Tree_2 -Train        1.000000         1.000000  1.000000   \n",
       "11           Decision Tree_2 -Test        0.923077         0.968254  0.910448   \n",
       "\n",
       "    F1 Score  \n",
       "0   0.943249  \n",
       "1   0.961240  \n",
       "2   0.906250  \n",
       "3   0.895522  \n",
       "4   1.000000  \n",
       "5   0.961240  \n",
       "6   0.946535  \n",
       "7   0.904762  \n",
       "8   0.904382  \n",
       "9   0.931298  \n",
       "10  1.000000  \n",
       "11  0.938462  "
      ]
     },
     "execution_count": 105,
     "metadata": {},
     "output_type": "execute_result"
    }
   ],
   "source": [
    "Model_evaluation"
   ]
  },
  {
   "cell_type": "markdown",
   "id": "d9426457",
   "metadata": {},
   "source": [
    "* Final Observations:\n",
    "    * Amongst the metrics chosen to evaluate the model ,Recall score is most suitable for the current problem statement.\n",
    "    * This is due to the fact that False Negatives(Recall Score) pose greater health risk to the individuals than False               Positives(Precision Score).\n",
    "    * The best performance in Recall Score is with decision tree, but both the models full model(fm) & model with related             variables are overfitted.\n",
    "    * Though the performance of Logistic Regression_fm is same as the Logistic Regression_2 model in the train dataset, we will       be selecting the latter because it has better performance in the test dataset.\n",
    "    * The final model for prediction is Logistic Regression_2 i.e. the model absent unrelated variables.\n",
    "    "
   ]
  },
  {
   "cell_type": "markdown",
   "id": "9165a338",
   "metadata": {},
   "source": [
    "## Interpreting the Model."
   ]
  },
  {
   "cell_type": "code",
   "execution_count": 106,
   "id": "10898e10",
   "metadata": {},
   "outputs": [],
   "source": [
    "model=lr.fit(xtrain,ytrain)"
   ]
  },
  {
   "cell_type": "code",
   "execution_count": 107,
   "id": "1653b57a",
   "metadata": {},
   "outputs": [
    {
     "data": {
      "text/plain": [
       "array([[-0.03549488,  2.55029918,  2.17089822,  2.98376135,  0.87871175,\n",
       "         0.24615022,  0.40371772,  0.98947879, -0.11204853,  1.80493388,\n",
       "        -0.80133848,  1.13127161,  0.29918629, -0.50618282]])"
      ]
     },
     "execution_count": 107,
     "metadata": {},
     "output_type": "execute_result"
    }
   ],
   "source": [
    "model.coef_"
   ]
  },
  {
   "cell_type": "code",
   "execution_count": 108,
   "id": "f0b269b2",
   "metadata": {},
   "outputs": [],
   "source": [
    "coeff=[]\n",
    "for i in range(14):\n",
    "    coeff.append(model.coef_[0][i])\n",
    "    "
   ]
  },
  {
   "cell_type": "code",
   "execution_count": 109,
   "id": "de008999",
   "metadata": {},
   "outputs": [],
   "source": [
    "#Creating a dataframe for saving the coefficients\n",
    "df_coeff=pd.DataFrame(coeff,X.columns)"
   ]
  },
  {
   "cell_type": "code",
   "execution_count": 110,
   "id": "8ed390c1",
   "metadata": {},
   "outputs": [
    {
     "data": {
      "text/html": [
       "<div>\n",
       "<style scoped>\n",
       "    .dataframe tbody tr th:only-of-type {\n",
       "        vertical-align: middle;\n",
       "    }\n",
       "\n",
       "    .dataframe tbody tr th {\n",
       "        vertical-align: top;\n",
       "    }\n",
       "\n",
       "    .dataframe thead th {\n",
       "        text-align: right;\n",
       "    }\n",
       "</style>\n",
       "<table border=\"1\" class=\"dataframe\">\n",
       "  <thead>\n",
       "    <tr style=\"text-align: right;\">\n",
       "      <th></th>\n",
       "      <th>0</th>\n",
       "    </tr>\n",
       "  </thead>\n",
       "  <tbody>\n",
       "    <tr>\n",
       "      <th>Age</th>\n",
       "      <td>-0.035495</td>\n",
       "    </tr>\n",
       "    <tr>\n",
       "      <th>Gender</th>\n",
       "      <td>2.550299</td>\n",
       "    </tr>\n",
       "    <tr>\n",
       "      <th>Polyuria</th>\n",
       "      <td>2.170898</td>\n",
       "    </tr>\n",
       "    <tr>\n",
       "      <th>Polydipsia</th>\n",
       "      <td>2.983761</td>\n",
       "    </tr>\n",
       "    <tr>\n",
       "      <th>sudden weight loss</th>\n",
       "      <td>0.878712</td>\n",
       "    </tr>\n",
       "    <tr>\n",
       "      <th>weakness</th>\n",
       "      <td>0.246150</td>\n",
       "    </tr>\n",
       "    <tr>\n",
       "      <th>Polyphagia</th>\n",
       "      <td>0.403718</td>\n",
       "    </tr>\n",
       "    <tr>\n",
       "      <th>Genital thrush</th>\n",
       "      <td>0.989479</td>\n",
       "    </tr>\n",
       "    <tr>\n",
       "      <th>visual blurring</th>\n",
       "      <td>-0.112049</td>\n",
       "    </tr>\n",
       "    <tr>\n",
       "      <th>Irritability</th>\n",
       "      <td>1.804934</td>\n",
       "    </tr>\n",
       "    <tr>\n",
       "      <th>delayed healing</th>\n",
       "      <td>-0.801338</td>\n",
       "    </tr>\n",
       "    <tr>\n",
       "      <th>partial paresis</th>\n",
       "      <td>1.131272</td>\n",
       "    </tr>\n",
       "    <tr>\n",
       "      <th>muscle stiffness</th>\n",
       "      <td>0.299186</td>\n",
       "    </tr>\n",
       "    <tr>\n",
       "      <th>Alopecia</th>\n",
       "      <td>-0.506183</td>\n",
       "    </tr>\n",
       "  </tbody>\n",
       "</table>\n",
       "</div>"
      ],
      "text/plain": [
       "                           0\n",
       "Age                -0.035495\n",
       "Gender              2.550299\n",
       "Polyuria            2.170898\n",
       "Polydipsia          2.983761\n",
       "sudden weight loss  0.878712\n",
       "weakness            0.246150\n",
       "Polyphagia          0.403718\n",
       "Genital thrush      0.989479\n",
       "visual blurring    -0.112049\n",
       "Irritability        1.804934\n",
       "delayed healing    -0.801338\n",
       "partial paresis     1.131272\n",
       "muscle stiffness    0.299186\n",
       "Alopecia           -0.506183"
      ]
     },
     "execution_count": 110,
     "metadata": {},
     "output_type": "execute_result"
    }
   ],
   "source": [
    "df_coeff"
   ]
  },
  {
   "cell_type": "markdown",
   "id": "888b91d7",
   "metadata": {},
   "source": [
    "#### Regression Equation\n",
    "* log(odds) = Bo  -0.030021 * Age + 2.431409 * Gender + 2.523097 * Polyuria......-0.327100*Alopecia"
   ]
  },
  {
   "cell_type": "code",
   "execution_count": 111,
   "id": "f408c903",
   "metadata": {},
   "outputs": [],
   "source": [
    "Exp=[]\n",
    "for i in coeff:\n",
    "    Exp.append(np.exp(i))\n",
    "    "
   ]
  },
  {
   "cell_type": "code",
   "execution_count": 112,
   "id": "1585bf85",
   "metadata": {},
   "outputs": [],
   "source": [
    "df_coeff['Exponents']=Exp"
   ]
  },
  {
   "cell_type": "code",
   "execution_count": 113,
   "id": "10e91a96",
   "metadata": {},
   "outputs": [
    {
     "data": {
      "text/html": [
       "<div>\n",
       "<style scoped>\n",
       "    .dataframe tbody tr th:only-of-type {\n",
       "        vertical-align: middle;\n",
       "    }\n",
       "\n",
       "    .dataframe tbody tr th {\n",
       "        vertical-align: top;\n",
       "    }\n",
       "\n",
       "    .dataframe thead th {\n",
       "        text-align: right;\n",
       "    }\n",
       "</style>\n",
       "<table border=\"1\" class=\"dataframe\">\n",
       "  <thead>\n",
       "    <tr style=\"text-align: right;\">\n",
       "      <th></th>\n",
       "      <th>0</th>\n",
       "      <th>Exponents</th>\n",
       "    </tr>\n",
       "  </thead>\n",
       "  <tbody>\n",
       "    <tr>\n",
       "      <th>Age</th>\n",
       "      <td>-0.035495</td>\n",
       "      <td>0.965128</td>\n",
       "    </tr>\n",
       "    <tr>\n",
       "      <th>Gender</th>\n",
       "      <td>2.550299</td>\n",
       "      <td>12.810936</td>\n",
       "    </tr>\n",
       "    <tr>\n",
       "      <th>Polyuria</th>\n",
       "      <td>2.170898</td>\n",
       "      <td>8.766154</td>\n",
       "    </tr>\n",
       "    <tr>\n",
       "      <th>Polydipsia</th>\n",
       "      <td>2.983761</td>\n",
       "      <td>19.762009</td>\n",
       "    </tr>\n",
       "    <tr>\n",
       "      <th>sudden weight loss</th>\n",
       "      <td>0.878712</td>\n",
       "      <td>2.407796</td>\n",
       "    </tr>\n",
       "    <tr>\n",
       "      <th>weakness</th>\n",
       "      <td>0.246150</td>\n",
       "      <td>1.279092</td>\n",
       "    </tr>\n",
       "    <tr>\n",
       "      <th>Polyphagia</th>\n",
       "      <td>0.403718</td>\n",
       "      <td>1.497381</td>\n",
       "    </tr>\n",
       "    <tr>\n",
       "      <th>Genital thrush</th>\n",
       "      <td>0.989479</td>\n",
       "      <td>2.689832</td>\n",
       "    </tr>\n",
       "    <tr>\n",
       "      <th>visual blurring</th>\n",
       "      <td>-0.112049</td>\n",
       "      <td>0.894001</td>\n",
       "    </tr>\n",
       "    <tr>\n",
       "      <th>Irritability</th>\n",
       "      <td>1.804934</td>\n",
       "      <td>6.079569</td>\n",
       "    </tr>\n",
       "    <tr>\n",
       "      <th>delayed healing</th>\n",
       "      <td>-0.801338</td>\n",
       "      <td>0.448728</td>\n",
       "    </tr>\n",
       "    <tr>\n",
       "      <th>partial paresis</th>\n",
       "      <td>1.131272</td>\n",
       "      <td>3.099595</td>\n",
       "    </tr>\n",
       "    <tr>\n",
       "      <th>muscle stiffness</th>\n",
       "      <td>0.299186</td>\n",
       "      <td>1.348761</td>\n",
       "    </tr>\n",
       "    <tr>\n",
       "      <th>Alopecia</th>\n",
       "      <td>-0.506183</td>\n",
       "      <td>0.602792</td>\n",
       "    </tr>\n",
       "  </tbody>\n",
       "</table>\n",
       "</div>"
      ],
      "text/plain": [
       "                           0  Exponents\n",
       "Age                -0.035495   0.965128\n",
       "Gender              2.550299  12.810936\n",
       "Polyuria            2.170898   8.766154\n",
       "Polydipsia          2.983761  19.762009\n",
       "sudden weight loss  0.878712   2.407796\n",
       "weakness            0.246150   1.279092\n",
       "Polyphagia          0.403718   1.497381\n",
       "Genital thrush      0.989479   2.689832\n",
       "visual blurring    -0.112049   0.894001\n",
       "Irritability        1.804934   6.079569\n",
       "delayed healing    -0.801338   0.448728\n",
       "partial paresis     1.131272   3.099595\n",
       "muscle stiffness    0.299186   1.348761\n",
       "Alopecia           -0.506183   0.602792"
      ]
     },
     "execution_count": 113,
     "metadata": {},
     "output_type": "execute_result"
    }
   ],
   "source": [
    "df_coeff"
   ]
  },
  {
   "cell_type": "markdown",
   "id": "120f69b0",
   "metadata": {},
   "source": [
    "* Interpretations : \n",
    "    * Keeping all factors constant, increasing the age by 1 year decreases the odds of getting diabetes by                             0.97.Alternatively,increasing the age by 1 year decreases the percent of getting diabetes by 3 percent.\n",
    "    \n",
    "    * Keeping all factors constant, a female individual's odds of getting diabetes is 11.37 compared to males.\n",
    "    * The variable with the highest coefficient is Polydipsia.\n",
    "    * Keeping all factors constant, for an individual with symptoms of Polydipsia the odds of getting diabetes is 17.84 compared       to an individual with no symptoms.\n",
    "    \n",
    "    "
   ]
  },
  {
   "cell_type": "code",
   "execution_count": 114,
   "id": "d53b39ea",
   "metadata": {},
   "outputs": [],
   "source": [
    "#Saving the model\n",
    "import pickle\n",
    "with open('Trained_model.pkl','wb') as file:\n",
    "    pickle.dump(model,file)"
   ]
  }
 ],
 "metadata": {
  "kernelspec": {
   "display_name": "Python 3 (ipykernel)",
   "language": "python",
   "name": "python3"
  },
  "language_info": {
   "codemirror_mode": {
    "name": "ipython",
    "version": 3
   },
   "file_extension": ".py",
   "mimetype": "text/x-python",
   "name": "python",
   "nbconvert_exporter": "python",
   "pygments_lexer": "ipython3",
   "version": "3.11.3"
  }
 },
 "nbformat": 4,
 "nbformat_minor": 5
}
